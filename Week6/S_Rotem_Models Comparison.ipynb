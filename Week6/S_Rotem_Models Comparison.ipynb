{
 "cells": [
  {
   "cell_type": "markdown",
   "metadata": {
    "id": "ykn9Ye9FQlno"
   },
   "source": [
    "\n",
    "# Linear Regression\n",
    "- X-y split (y is the target variable, in this case, \"total claim amount\")\n",
    "- Train-test split.\n",
    "- Standardize the data (after the data split!) *on the training set*.\n",
    "- Apply linear regression.\n",
    "- Model Interpretation.\n",
    "- make a dataframe to show real vs perdicted\n"
   ]
  },
  {
   "cell_type": "code",
   "execution_count": 2,
   "metadata": {
    "id": "5RdZ3fkoPZzt"
   },
   "outputs": [],
   "source": [
    "import pandas as pd\n",
    "import numpy as np\n",
    "import matplotlib.pyplot as plt\n",
    "import seaborn as sns\n",
    "from sklearn.model_selection import train_test_split\n",
    "from sklearn.preprocessing import StandardScaler\n",
    "from sklearn.linear_model import LinearRegression"
   ]
  },
  {
   "cell_type": "code",
   "execution_count": 3,
   "metadata": {
    "id": "vmjFKL1i7_lr"
   },
   "outputs": [],
   "source": [
    "file = 'https://raw.githubusercontent.com/Shacham-R/Shacham.R.Labs-Ironhack/main/Week4/Labs/marketing_customer_analysis_clean.csv'\n",
    "df = pd.read_csv(file)\n",
    "df = df.dropna()"
   ]
  },
  {
   "cell_type": "code",
   "execution_count": 4,
   "metadata": {
    "id": "IQ2oaZIsS4qC"
   },
   "outputs": [],
   "source": [
    "num = df.select_dtypes('number')\n",
    "num.drop(columns=['unnamed:_0'],inplace=True)\n",
    "num.drop(axis=1,columns=['total_claim_amount'],inplace=True)"
   ]
  },
  {
   "cell_type": "code",
   "execution_count": 5,
   "metadata": {
    "colab": {
     "base_uri": "https://localhost:8080/",
     "height": 101
    },
    "id": "JMsI-QMpi0Hw",
    "outputId": "1e6320c2-9e01-4526-ad82-80c047640518"
   },
   "outputs": [
    {
     "data": {
      "text/html": [
       "<div>\n",
       "<style scoped>\n",
       "    .dataframe tbody tr th:only-of-type {\n",
       "        vertical-align: middle;\n",
       "    }\n",
       "\n",
       "    .dataframe tbody tr th {\n",
       "        vertical-align: top;\n",
       "    }\n",
       "\n",
       "    .dataframe thead th {\n",
       "        text-align: right;\n",
       "    }\n",
       "</style>\n",
       "<table border=\"1\" class=\"dataframe\">\n",
       "  <thead>\n",
       "    <tr style=\"text-align: right;\">\n",
       "      <th></th>\n",
       "      <th>customer_lifetime_value</th>\n",
       "      <th>income</th>\n",
       "      <th>monthly_premium_auto</th>\n",
       "      <th>months_since_last_claim</th>\n",
       "      <th>months_since_policy_inception</th>\n",
       "      <th>number_of_open_complaints</th>\n",
       "      <th>number_of_policies</th>\n",
       "      <th>month</th>\n",
       "    </tr>\n",
       "  </thead>\n",
       "  <tbody>\n",
       "    <tr>\n",
       "      <th>0</th>\n",
       "      <td>4809.21696</td>\n",
       "      <td>48029</td>\n",
       "      <td>61</td>\n",
       "      <td>7.0</td>\n",
       "      <td>52</td>\n",
       "      <td>0.0</td>\n",
       "      <td>9</td>\n",
       "      <td>2</td>\n",
       "    </tr>\n",
       "  </tbody>\n",
       "</table>\n",
       "</div>"
      ],
      "text/plain": [
       "   customer_lifetime_value  income  monthly_premium_auto  \\\n",
       "0               4809.21696   48029                    61   \n",
       "\n",
       "   months_since_last_claim  months_since_policy_inception  \\\n",
       "0                      7.0                             52   \n",
       "\n",
       "   number_of_open_complaints  number_of_policies  month  \n",
       "0                        0.0                   9      2  "
      ]
     },
     "execution_count": 5,
     "metadata": {},
     "output_type": "execute_result"
    }
   ],
   "source": [
    "num.head(1)"
   ]
  },
  {
   "cell_type": "markdown",
   "metadata": {
    "id": "NHNbOCbG-9yc"
   },
   "source": [
    "## Preproccessing  - categorical variables encoding"
   ]
  },
  {
   "cell_type": "code",
   "execution_count": 6,
   "metadata": {
    "colab": {
     "base_uri": "https://localhost:8080/",
     "height": 165
    },
    "id": "4-TrQ9DX_E0k",
    "outputId": "66a007fa-8fca-4e13-df1d-422e137ab72a"
   },
   "outputs": [
    {
     "data": {
      "text/html": [
       "<div>\n",
       "<style scoped>\n",
       "    .dataframe tbody tr th:only-of-type {\n",
       "        vertical-align: middle;\n",
       "    }\n",
       "\n",
       "    .dataframe tbody tr th {\n",
       "        vertical-align: top;\n",
       "    }\n",
       "\n",
       "    .dataframe thead th {\n",
       "        text-align: right;\n",
       "    }\n",
       "</style>\n",
       "<table border=\"1\" class=\"dataframe\">\n",
       "  <thead>\n",
       "    <tr style=\"text-align: right;\">\n",
       "      <th></th>\n",
       "      <th>response_Yes</th>\n",
       "      <th>coverage_Extended</th>\n",
       "      <th>coverage_Premium</th>\n",
       "      <th>education_College</th>\n",
       "      <th>education_Doctor</th>\n",
       "      <th>education_High School or Below</th>\n",
       "      <th>education_Master</th>\n",
       "      <th>employmentstatus_Employed</th>\n",
       "      <th>employmentstatus_Medical Leave</th>\n",
       "      <th>employmentstatus_Retired</th>\n",
       "      <th>...</th>\n",
       "      <th>sales_channel_Branch</th>\n",
       "      <th>sales_channel_Call Center</th>\n",
       "      <th>sales_channel_Web</th>\n",
       "      <th>vehicle_class_Luxury Car</th>\n",
       "      <th>vehicle_class_Luxury SUV</th>\n",
       "      <th>vehicle_class_SUV</th>\n",
       "      <th>vehicle_class_Sports Car</th>\n",
       "      <th>vehicle_class_Two-Door Car</th>\n",
       "      <th>vehicle_size_Medsize</th>\n",
       "      <th>vehicle_size_Small</th>\n",
       "    </tr>\n",
       "  </thead>\n",
       "  <tbody>\n",
       "    <tr>\n",
       "      <th>0</th>\n",
       "      <td>False</td>\n",
       "      <td>False</td>\n",
       "      <td>False</td>\n",
       "      <td>True</td>\n",
       "      <td>False</td>\n",
       "      <td>False</td>\n",
       "      <td>False</td>\n",
       "      <td>True</td>\n",
       "      <td>False</td>\n",
       "      <td>False</td>\n",
       "      <td>...</td>\n",
       "      <td>False</td>\n",
       "      <td>False</td>\n",
       "      <td>False</td>\n",
       "      <td>False</td>\n",
       "      <td>False</td>\n",
       "      <td>False</td>\n",
       "      <td>False</td>\n",
       "      <td>False</td>\n",
       "      <td>True</td>\n",
       "      <td>False</td>\n",
       "    </tr>\n",
       "  </tbody>\n",
       "</table>\n",
       "<p>1 rows × 39 columns</p>\n",
       "</div>"
      ],
      "text/plain": [
       "   response_Yes  coverage_Extended  coverage_Premium  education_College  \\\n",
       "0         False              False             False               True   \n",
       "\n",
       "   education_Doctor  education_High School or Below  education_Master  \\\n",
       "0             False                           False             False   \n",
       "\n",
       "   employmentstatus_Employed  employmentstatus_Medical Leave  \\\n",
       "0                       True                           False   \n",
       "\n",
       "   employmentstatus_Retired  ...  sales_channel_Branch  \\\n",
       "0                     False  ...                 False   \n",
       "\n",
       "   sales_channel_Call Center  sales_channel_Web  vehicle_class_Luxury Car  \\\n",
       "0                      False              False                     False   \n",
       "\n",
       "   vehicle_class_Luxury SUV  vehicle_class_SUV  vehicle_class_Sports Car  \\\n",
       "0                     False              False                     False   \n",
       "\n",
       "   vehicle_class_Two-Door Car  vehicle_size_Medsize  vehicle_size_Small  \n",
       "0                       False                  True               False  \n",
       "\n",
       "[1 rows x 39 columns]"
      ]
     },
     "execution_count": 6,
     "metadata": {},
     "output_type": "execute_result"
    }
   ],
   "source": [
    "cat = df.select_dtypes(exclude='number')\n",
    "cat.drop(columns=['customer','state','effective_to_date'],inplace=True,errors='Ignore')\n",
    "cat_encoded = pd.get_dummies(cat,drop_first=True)\n",
    "cat_encoded.head(1)"
   ]
  },
  {
   "cell_type": "code",
   "execution_count": 7,
   "metadata": {
    "id": "GJvCiBqEALzG"
   },
   "outputs": [],
   "source": [
    "final_df = pd.concat([num, cat_encoded],axis=1)"
   ]
  },
  {
   "cell_type": "markdown",
   "metadata": {
    "id": "NJzkwV8X-q_K"
   },
   "source": [
    "### Xy split"
   ]
  },
  {
   "cell_type": "code",
   "execution_count": 8,
   "metadata": {
    "id": "9BWv4wjgQNwn"
   },
   "outputs": [],
   "source": [
    "#splitting the data\n",
    "\n",
    "X = final_df #the numericals columns, apart from 'total_claim_amount'\n",
    "y = df['total_claim_amount']"
   ]
  },
  {
   "cell_type": "code",
   "execution_count": 9,
   "metadata": {
    "colab": {
     "base_uri": "https://localhost:8080/",
     "height": 273
    },
    "id": "brwYWPJ2Ajl-",
    "outputId": "8abfc85a-18ac-4a86-9028-63e9d682901a"
   },
   "outputs": [
    {
     "data": {
      "text/html": [
       "<div>\n",
       "<style scoped>\n",
       "    .dataframe tbody tr th:only-of-type {\n",
       "        vertical-align: middle;\n",
       "    }\n",
       "\n",
       "    .dataframe tbody tr th {\n",
       "        vertical-align: top;\n",
       "    }\n",
       "\n",
       "    .dataframe thead th {\n",
       "        text-align: right;\n",
       "    }\n",
       "</style>\n",
       "<table border=\"1\" class=\"dataframe\">\n",
       "  <thead>\n",
       "    <tr style=\"text-align: right;\">\n",
       "      <th></th>\n",
       "      <th>customer_lifetime_value</th>\n",
       "      <th>income</th>\n",
       "      <th>monthly_premium_auto</th>\n",
       "      <th>months_since_last_claim</th>\n",
       "      <th>months_since_policy_inception</th>\n",
       "      <th>number_of_open_complaints</th>\n",
       "      <th>number_of_policies</th>\n",
       "      <th>month</th>\n",
       "      <th>response_Yes</th>\n",
       "      <th>coverage_Extended</th>\n",
       "      <th>...</th>\n",
       "      <th>sales_channel_Branch</th>\n",
       "      <th>sales_channel_Call Center</th>\n",
       "      <th>sales_channel_Web</th>\n",
       "      <th>vehicle_class_Luxury Car</th>\n",
       "      <th>vehicle_class_Luxury SUV</th>\n",
       "      <th>vehicle_class_SUV</th>\n",
       "      <th>vehicle_class_Sports Car</th>\n",
       "      <th>vehicle_class_Two-Door Car</th>\n",
       "      <th>vehicle_size_Medsize</th>\n",
       "      <th>vehicle_size_Small</th>\n",
       "    </tr>\n",
       "  </thead>\n",
       "  <tbody>\n",
       "    <tr>\n",
       "      <th>0</th>\n",
       "      <td>4809.216960</td>\n",
       "      <td>48029</td>\n",
       "      <td>61</td>\n",
       "      <td>7.000000</td>\n",
       "      <td>52</td>\n",
       "      <td>0.000000</td>\n",
       "      <td>9</td>\n",
       "      <td>2</td>\n",
       "      <td>False</td>\n",
       "      <td>False</td>\n",
       "      <td>...</td>\n",
       "      <td>False</td>\n",
       "      <td>False</td>\n",
       "      <td>False</td>\n",
       "      <td>False</td>\n",
       "      <td>False</td>\n",
       "      <td>False</td>\n",
       "      <td>False</td>\n",
       "      <td>False</td>\n",
       "      <td>True</td>\n",
       "      <td>False</td>\n",
       "    </tr>\n",
       "    <tr>\n",
       "      <th>1</th>\n",
       "      <td>2228.525238</td>\n",
       "      <td>0</td>\n",
       "      <td>64</td>\n",
       "      <td>3.000000</td>\n",
       "      <td>26</td>\n",
       "      <td>0.000000</td>\n",
       "      <td>1</td>\n",
       "      <td>1</td>\n",
       "      <td>False</td>\n",
       "      <td>False</td>\n",
       "      <td>...</td>\n",
       "      <td>False</td>\n",
       "      <td>True</td>\n",
       "      <td>False</td>\n",
       "      <td>False</td>\n",
       "      <td>False</td>\n",
       "      <td>False</td>\n",
       "      <td>False</td>\n",
       "      <td>False</td>\n",
       "      <td>True</td>\n",
       "      <td>False</td>\n",
       "    </tr>\n",
       "    <tr>\n",
       "      <th>2</th>\n",
       "      <td>14947.917300</td>\n",
       "      <td>22139</td>\n",
       "      <td>100</td>\n",
       "      <td>34.000000</td>\n",
       "      <td>31</td>\n",
       "      <td>0.000000</td>\n",
       "      <td>2</td>\n",
       "      <td>2</td>\n",
       "      <td>False</td>\n",
       "      <td>False</td>\n",
       "      <td>...</td>\n",
       "      <td>False</td>\n",
       "      <td>True</td>\n",
       "      <td>False</td>\n",
       "      <td>False</td>\n",
       "      <td>False</td>\n",
       "      <td>True</td>\n",
       "      <td>False</td>\n",
       "      <td>False</td>\n",
       "      <td>True</td>\n",
       "      <td>False</td>\n",
       "    </tr>\n",
       "    <tr>\n",
       "      <th>3</th>\n",
       "      <td>22332.439460</td>\n",
       "      <td>49078</td>\n",
       "      <td>97</td>\n",
       "      <td>10.000000</td>\n",
       "      <td>3</td>\n",
       "      <td>0.000000</td>\n",
       "      <td>2</td>\n",
       "      <td>1</td>\n",
       "      <td>True</td>\n",
       "      <td>True</td>\n",
       "      <td>...</td>\n",
       "      <td>True</td>\n",
       "      <td>False</td>\n",
       "      <td>False</td>\n",
       "      <td>False</td>\n",
       "      <td>False</td>\n",
       "      <td>False</td>\n",
       "      <td>False</td>\n",
       "      <td>False</td>\n",
       "      <td>True</td>\n",
       "      <td>False</td>\n",
       "    </tr>\n",
       "    <tr>\n",
       "      <th>4</th>\n",
       "      <td>9025.067525</td>\n",
       "      <td>23675</td>\n",
       "      <td>117</td>\n",
       "      <td>15.149071</td>\n",
       "      <td>31</td>\n",
       "      <td>0.384256</td>\n",
       "      <td>7</td>\n",
       "      <td>1</td>\n",
       "      <td>False</td>\n",
       "      <td>False</td>\n",
       "      <td>...</td>\n",
       "      <td>True</td>\n",
       "      <td>False</td>\n",
       "      <td>False</td>\n",
       "      <td>False</td>\n",
       "      <td>False</td>\n",
       "      <td>False</td>\n",
       "      <td>False</td>\n",
       "      <td>False</td>\n",
       "      <td>True</td>\n",
       "      <td>False</td>\n",
       "    </tr>\n",
       "  </tbody>\n",
       "</table>\n",
       "<p>5 rows × 47 columns</p>\n",
       "</div>"
      ],
      "text/plain": [
       "   customer_lifetime_value  income  monthly_premium_auto  \\\n",
       "0              4809.216960   48029                    61   \n",
       "1              2228.525238       0                    64   \n",
       "2             14947.917300   22139                   100   \n",
       "3             22332.439460   49078                    97   \n",
       "4              9025.067525   23675                   117   \n",
       "\n",
       "   months_since_last_claim  months_since_policy_inception  \\\n",
       "0                 7.000000                             52   \n",
       "1                 3.000000                             26   \n",
       "2                34.000000                             31   \n",
       "3                10.000000                              3   \n",
       "4                15.149071                             31   \n",
       "\n",
       "   number_of_open_complaints  number_of_policies  month  response_Yes  \\\n",
       "0                   0.000000                   9      2         False   \n",
       "1                   0.000000                   1      1         False   \n",
       "2                   0.000000                   2      2         False   \n",
       "3                   0.000000                   2      1          True   \n",
       "4                   0.384256                   7      1         False   \n",
       "\n",
       "   coverage_Extended  ...  sales_channel_Branch  sales_channel_Call Center  \\\n",
       "0              False  ...                 False                      False   \n",
       "1              False  ...                 False                       True   \n",
       "2              False  ...                 False                       True   \n",
       "3               True  ...                  True                      False   \n",
       "4              False  ...                  True                      False   \n",
       "\n",
       "   sales_channel_Web  vehicle_class_Luxury Car  vehicle_class_Luxury SUV  \\\n",
       "0              False                     False                     False   \n",
       "1              False                     False                     False   \n",
       "2              False                     False                     False   \n",
       "3              False                     False                     False   \n",
       "4              False                     False                     False   \n",
       "\n",
       "   vehicle_class_SUV  vehicle_class_Sports Car  vehicle_class_Two-Door Car  \\\n",
       "0              False                     False                       False   \n",
       "1              False                     False                       False   \n",
       "2               True                     False                       False   \n",
       "3              False                     False                       False   \n",
       "4              False                     False                       False   \n",
       "\n",
       "   vehicle_size_Medsize  vehicle_size_Small  \n",
       "0                  True               False  \n",
       "1                  True               False  \n",
       "2                  True               False  \n",
       "3                  True               False  \n",
       "4                  True               False  \n",
       "\n",
       "[5 rows x 47 columns]"
      ]
     },
     "execution_count": 9,
     "metadata": {},
     "output_type": "execute_result"
    }
   ],
   "source": [
    "X.head()"
   ]
  },
  {
   "cell_type": "markdown",
   "metadata": {
    "id": "HKDnZO9MZfI6"
   },
   "source": [
    "# Creating the model"
   ]
  },
  {
   "cell_type": "code",
   "execution_count": 10,
   "metadata": {
    "id": "2XFGZuf9WcK0"
   },
   "outputs": [],
   "source": [
    "X_train, X_test, y_train, y_test = train_test_split(X, y, test_size = 0.25, random_state = 100)"
   ]
  },
  {
   "cell_type": "markdown",
   "metadata": {
    "id": "1ozmyMY3B1n_"
   },
   "source": [
    "### Scaling"
   ]
  },
  {
   "cell_type": "code",
   "execution_count": 11,
   "metadata": {
    "id": "45y7TwQvdL7y"
   },
   "outputs": [],
   "source": [
    "scaler = StandardScaler()"
   ]
  },
  {
   "cell_type": "code",
   "execution_count": 12,
   "metadata": {
    "id": "jWDd9-tUdPag"
   },
   "outputs": [],
   "source": [
    "scaler.fit(X_train) #fitting for the training data\n",
    "X_train = pd.DataFrame(scaler.transform(X_train))\n",
    "X_test = pd.DataFrame(scaler.transform(X_test))"
   ]
  },
  {
   "cell_type": "code",
   "execution_count": null,
   "metadata": {
    "id": "b-foRhIrJ1uc"
   },
   "outputs": [],
   "source": []
  },
  {
   "cell_type": "code",
   "execution_count": 13,
   "metadata": {
    "colab": {
     "base_uri": "https://localhost:8080/",
     "height": 73
    },
    "id": "hXSJzSbaIiV7",
    "outputId": "78ca09fb-dd69-4618-dea5-f2eeb2b5c769"
   },
   "outputs": [
    {
     "data": {
      "text/plain": [
       "'from sklearn.preprocessing import PowerTransformer\\npt = PowerTransformer()\\ny_traina = pd.array(y_train).reshape(-1,1)\\npt.fit(y_traina)\\ny_train_t = pt.transform(y_traina)\\ny_test_t = pt.transform(pd.array(y_test).reshape(-1,1))\\ny_test = y_test_t\\ny_train = y_train_t'"
      ]
     },
     "execution_count": 13,
     "metadata": {},
     "output_type": "execute_result"
    }
   ],
   "source": [
    "'''from sklearn.preprocessing import PowerTransformer\n",
    "pt = PowerTransformer()\n",
    "y_traina = pd.array(y_train).reshape(-1,1)\n",
    "pt.fit(y_traina)\n",
    "y_train_t = pt.transform(y_traina)\n",
    "y_test_t = pt.transform(pd.array(y_test).reshape(-1,1))\n",
    "y_test = y_test_t\n",
    "y_train = y_train_t'''"
   ]
  },
  {
   "cell_type": "markdown",
   "metadata": {
    "id": "Fg41d0WbBwGa"
   },
   "source": [
    "## Modeling"
   ]
  },
  {
   "cell_type": "code",
   "execution_count": 14,
   "metadata": {
    "id": "nvGenatZcnfD"
   },
   "outputs": [],
   "source": [
    "lm = LinearRegression()"
   ]
  },
  {
   "cell_type": "code",
   "execution_count": 15,
   "metadata": {
    "id": "ZXN3ZAj4cqUQ"
   },
   "outputs": [],
   "source": [
    "model = lm.fit(X_train, y_train)"
   ]
  },
  {
   "cell_type": "markdown",
   "metadata": {
    "id": "LBKaAcLrfIFQ"
   },
   "source": [
    "# Real vs. Predicted dataframe"
   ]
  },
  {
   "cell_type": "code",
   "execution_count": 16,
   "metadata": {
    "id": "MA93D4nfc7aF"
   },
   "outputs": [],
   "source": [
    "y_pred = np.array(model.predict(X_test))"
   ]
  },
  {
   "cell_type": "code",
   "execution_count": 17,
   "metadata": {
    "colab": {
     "base_uri": "https://localhost:8080/"
    },
    "id": "ABiA-B4_fTnH",
    "outputId": "77a36086-521a-48f8-cdd9-34e5c0cf897b"
   },
   "outputs": [
    {
     "data": {
      "text/plain": [
       "0       340.800000\n",
       "1       195.153339\n",
       "2       770.400000\n",
       "3       336.000000\n",
       "4       561.600000\n",
       "           ...    \n",
       "2723    345.600000\n",
       "2724    664.280864\n",
       "2725    684.000000\n",
       "2726     25.713622\n",
       "2727    497.684017\n",
       "Name: total_claim_amount, Length: 2728, dtype: float64"
      ]
     },
     "execution_count": 17,
     "metadata": {},
     "output_type": "execute_result"
    }
   ],
   "source": [
    "y_test.reset_index(drop=True)"
   ]
  },
  {
   "cell_type": "code",
   "execution_count": 18,
   "metadata": {
    "id": "LyoEb4fFfbKO"
   },
   "outputs": [],
   "source": [
    "real_vs_pred = pd.DataFrame({'y_test': y_test, 'y_pred':y_pred})"
   ]
  },
  {
   "cell_type": "code",
   "execution_count": 19,
   "metadata": {
    "colab": {
     "base_uri": "https://localhost:8080/",
     "height": 423
    },
    "id": "9lsziVXkhPdJ",
    "outputId": "debd3d29-7b5d-4441-ce71-360b52c04085"
   },
   "outputs": [
    {
     "data": {
      "text/html": [
       "<div>\n",
       "<style scoped>\n",
       "    .dataframe tbody tr th:only-of-type {\n",
       "        vertical-align: middle;\n",
       "    }\n",
       "\n",
       "    .dataframe tbody tr th {\n",
       "        vertical-align: top;\n",
       "    }\n",
       "\n",
       "    .dataframe thead th {\n",
       "        text-align: right;\n",
       "    }\n",
       "</style>\n",
       "<table border=\"1\" class=\"dataframe\">\n",
       "  <thead>\n",
       "    <tr style=\"text-align: right;\">\n",
       "      <th></th>\n",
       "      <th>y_test</th>\n",
       "      <th>y_pred</th>\n",
       "    </tr>\n",
       "  </thead>\n",
       "  <tbody>\n",
       "    <tr>\n",
       "      <th>1250</th>\n",
       "      <td>340.800000</td>\n",
       "      <td>377.926242</td>\n",
       "    </tr>\n",
       "    <tr>\n",
       "      <th>5438</th>\n",
       "      <td>195.153339</td>\n",
       "      <td>306.244808</td>\n",
       "    </tr>\n",
       "    <tr>\n",
       "      <th>10156</th>\n",
       "      <td>770.400000</td>\n",
       "      <td>720.706963</td>\n",
       "    </tr>\n",
       "    <tr>\n",
       "      <th>3441</th>\n",
       "      <td>336.000000</td>\n",
       "      <td>383.876682</td>\n",
       "    </tr>\n",
       "    <tr>\n",
       "      <th>682</th>\n",
       "      <td>561.600000</td>\n",
       "      <td>641.598750</td>\n",
       "    </tr>\n",
       "    <tr>\n",
       "      <th>...</th>\n",
       "      <td>...</td>\n",
       "      <td>...</td>\n",
       "    </tr>\n",
       "    <tr>\n",
       "      <th>5063</th>\n",
       "      <td>345.600000</td>\n",
       "      <td>396.123423</td>\n",
       "    </tr>\n",
       "    <tr>\n",
       "      <th>10053</th>\n",
       "      <td>664.280864</td>\n",
       "      <td>618.785811</td>\n",
       "    </tr>\n",
       "    <tr>\n",
       "      <th>3453</th>\n",
       "      <td>684.000000</td>\n",
       "      <td>645.251071</td>\n",
       "    </tr>\n",
       "    <tr>\n",
       "      <th>9241</th>\n",
       "      <td>25.713622</td>\n",
       "      <td>233.843123</td>\n",
       "    </tr>\n",
       "    <tr>\n",
       "      <th>10449</th>\n",
       "      <td>497.684017</td>\n",
       "      <td>395.956963</td>\n",
       "    </tr>\n",
       "  </tbody>\n",
       "</table>\n",
       "<p>2728 rows × 2 columns</p>\n",
       "</div>"
      ],
      "text/plain": [
       "           y_test      y_pred\n",
       "1250   340.800000  377.926242\n",
       "5438   195.153339  306.244808\n",
       "10156  770.400000  720.706963\n",
       "3441   336.000000  383.876682\n",
       "682    561.600000  641.598750\n",
       "...           ...         ...\n",
       "5063   345.600000  396.123423\n",
       "10053  664.280864  618.785811\n",
       "3453   684.000000  645.251071\n",
       "9241    25.713622  233.843123\n",
       "10449  497.684017  395.956963\n",
       "\n",
       "[2728 rows x 2 columns]"
      ]
     },
     "execution_count": 19,
     "metadata": {},
     "output_type": "execute_result"
    }
   ],
   "source": [
    "real_vs_pred"
   ]
  },
  {
   "cell_type": "code",
   "execution_count": 20,
   "metadata": {
    "colab": {
     "base_uri": "https://localhost:8080/",
     "height": 206
    },
    "id": "bgh-9eHIMHZE",
    "outputId": "c0c8827b-afdf-4f2e-ef87-71185e66e6bb"
   },
   "outputs": [
    {
     "data": {
      "text/html": [
       "<div>\n",
       "<style scoped>\n",
       "    .dataframe tbody tr th:only-of-type {\n",
       "        vertical-align: middle;\n",
       "    }\n",
       "\n",
       "    .dataframe tbody tr th {\n",
       "        vertical-align: top;\n",
       "    }\n",
       "\n",
       "    .dataframe thead th {\n",
       "        text-align: right;\n",
       "    }\n",
       "</style>\n",
       "<table border=\"1\" class=\"dataframe\">\n",
       "  <thead>\n",
       "    <tr style=\"text-align: right;\">\n",
       "      <th></th>\n",
       "      <th>y_test</th>\n",
       "      <th>y_pred</th>\n",
       "      <th>residuals</th>\n",
       "    </tr>\n",
       "  </thead>\n",
       "  <tbody>\n",
       "    <tr>\n",
       "      <th>1250</th>\n",
       "      <td>340.800000</td>\n",
       "      <td>377.926242</td>\n",
       "      <td>-37.126242</td>\n",
       "    </tr>\n",
       "    <tr>\n",
       "      <th>5438</th>\n",
       "      <td>195.153339</td>\n",
       "      <td>306.244808</td>\n",
       "      <td>-111.091469</td>\n",
       "    </tr>\n",
       "    <tr>\n",
       "      <th>10156</th>\n",
       "      <td>770.400000</td>\n",
       "      <td>720.706963</td>\n",
       "      <td>49.693037</td>\n",
       "    </tr>\n",
       "    <tr>\n",
       "      <th>3441</th>\n",
       "      <td>336.000000</td>\n",
       "      <td>383.876682</td>\n",
       "      <td>-47.876682</td>\n",
       "    </tr>\n",
       "    <tr>\n",
       "      <th>682</th>\n",
       "      <td>561.600000</td>\n",
       "      <td>641.598750</td>\n",
       "      <td>-79.998750</td>\n",
       "    </tr>\n",
       "  </tbody>\n",
       "</table>\n",
       "</div>"
      ],
      "text/plain": [
       "           y_test      y_pred   residuals\n",
       "1250   340.800000  377.926242  -37.126242\n",
       "5438   195.153339  306.244808 -111.091469\n",
       "10156  770.400000  720.706963   49.693037\n",
       "3441   336.000000  383.876682  -47.876682\n",
       "682    561.600000  641.598750  -79.998750"
      ]
     },
     "execution_count": 20,
     "metadata": {},
     "output_type": "execute_result"
    }
   ],
   "source": [
    "real_vs_pred['residuals'] = real_vs_pred.apply(lambda row: row.y_test - row.y_pred, axis=1)\n",
    "real_vs_pred.head()"
   ]
  },
  {
   "cell_type": "code",
   "execution_count": 21,
   "metadata": {
    "id": "C5YOM86JmIAD"
   },
   "outputs": [],
   "source": [
    "from sklearn.metrics import mean_squared_error as mse, r2_score as r2"
   ]
  },
  {
   "cell_type": "code",
   "execution_count": 22,
   "metadata": {
    "id": "VMqTjJHcDBm9"
   },
   "outputs": [],
   "source": [
    "model_mse = mse(y_test, y_pred)\n",
    "model_r2 = r2(y_test, y_pred)\n",
    "model_rmse = np.sqrt(model_mse)"
   ]
  },
  {
   "cell_type": "code",
   "execution_count": 23,
   "metadata": {
    "colab": {
     "base_uri": "https://localhost:8080/"
    },
    "id": "BHBuC3XsDMjI",
    "outputId": "8153f7ef-711e-4a31-81a1-0784d654614b"
   },
   "outputs": [
    {
     "data": {
      "text/plain": [
       "(0.7649079551422762, 21382.30339560706, 146.2268901249256)"
      ]
     },
     "execution_count": 23,
     "metadata": {},
     "output_type": "execute_result"
    }
   ],
   "source": [
    "model_r2, model_mse, model_rmse"
   ]
  },
  {
   "cell_type": "markdown",
   "metadata": {
    "id": "-PulBW_dDhJ8"
   },
   "source": [
    "### Feature importence"
   ]
  },
  {
   "cell_type": "code",
   "execution_count": 24,
   "metadata": {
    "colab": {
     "base_uri": "https://localhost:8080/"
    },
    "id": "ylUJg5EiDQbE",
    "outputId": "6205e03f-ac45-487e-e5fe-263cac523cff"
   },
   "outputs": [
    {
     "data": {
      "text/plain": [
       "array([-5.46882290e-01, -9.37679193e+00,  1.73597172e+02,  2.56570057e+00,\n",
       "       -1.64244748e+00, -1.14602601e+00,  3.03765089e+00, -1.57614825e-01,\n",
       "       -8.07273283e+00, -5.19742740e+00, -2.00340257e+00, -2.98424370e+00,\n",
       "       -1.06197536e+00,  5.59955203e+00, -1.28683731e+00, -5.51272264e+00,\n",
       "        9.36577946e-01, -2.13787785e+00,  2.66121710e+01,  8.09665014e+00,\n",
       "        1.82078276e+02,  8.38620964e+01, -3.57432727e+00,  2.92676095e+01,\n",
       "        1.40097200e+15,  1.54577725e+15, -1.49738908e+00,  1.07813711e+00,\n",
       "       -1.09904447e+15, -1.37237299e+15, -1.56374709e+15, -6.61779136e+14,\n",
       "       -1.03028544e+15, -9.77216653e+14,  6.77773403e+00,  2.10406591e+00,\n",
       "        1.20322674e+00,  1.26183111e+00,  6.91209975e-01,  1.27871206e+00,\n",
       "        5.78928598e+00, -2.46483244e+00, -3.79653747e+00, -4.50980088e+00,\n",
       "       -2.56667022e-01, -4.38603387e+00, -2.05604073e+00])"
      ]
     },
     "execution_count": 24,
     "metadata": {},
     "output_type": "execute_result"
    }
   ],
   "source": [
    "model.coef_"
   ]
  },
  {
   "cell_type": "code",
   "execution_count": 25,
   "metadata": {
    "colab": {
     "base_uri": "https://localhost:8080/"
    },
    "id": "AmcV5RClDr33",
    "outputId": "4a2474b9-7df5-4fe7-d88f-e6925267adfa"
   },
   "outputs": [
    {
     "data": {
      "text/plain": [
       "434.2261740850536"
      ]
     },
     "execution_count": 25,
     "metadata": {},
     "output_type": "execute_result"
    }
   ],
   "source": [
    "model.intercept_"
   ]
  },
  {
   "cell_type": "code",
   "execution_count": 26,
   "metadata": {
    "id": "db4Al8IjDsu-"
   },
   "outputs": [],
   "source": [
    "fi_df = pd.DataFrame({'var':X_train.columns, 'coef':model.coef_})"
   ]
  },
  {
   "cell_type": "code",
   "execution_count": 27,
   "metadata": {
    "colab": {
     "base_uri": "https://localhost:8080/",
     "height": 598
    },
    "id": "BhZIJohSEKPn",
    "outputId": "54db2055-0b3a-4049-b9c8-fa47b1aa4cf2"
   },
   "outputs": [
    {
     "data": {
      "text/plain": [
       "(array([-10.,   0.,  10.,  20.,  30.,  40.,  50.]),\n",
       " [Text(-10.0, 0, '−10'),\n",
       "  Text(0.0, 0, '0'),\n",
       "  Text(10.0, 0, '10'),\n",
       "  Text(20.0, 0, '20'),\n",
       "  Text(30.0, 0, '30'),\n",
       "  Text(40.0, 0, '40'),\n",
       "  Text(50.0, 0, '50')])"
      ]
     },
     "execution_count": 27,
     "metadata": {},
     "output_type": "execute_result"
    },
    {
     "data": {
      "image/png": "[encoded data removed]",
      "text/plain": [
       "<Figure size 640x480 with 1 Axes>"
      ]
     },
     "metadata": {},
     "output_type": "display_data"
    }
   ],
   "source": [
    "plt.bar(x=fi_df[\"var\"],height=fi_df[\"coef\"])\n",
    "plt.xticks(rotation=45)"
   ]
  },
  {
   "cell_type": "code",
   "execution_count": 28,
   "metadata": {
    "colab": {
     "base_uri": "https://localhost:8080/",
     "height": 448
    },
    "id": "amePFXBDFqHY",
    "outputId": "4908ca1a-6dff-4ec6-d6ba-0cf56e3adc87"
   },
   "outputs": [
    {
     "data": {
      "text/plain": [
       "<matplotlib.collections.PathCollection at 0x79dca9617d60>"
      ]
     },
     "execution_count": 28,
     "metadata": {},
     "output_type": "execute_result"
    },
    {
     "data": {
      "image/png": "[encoded data removed]",
      "text/plain": [
       "<Figure size 640x480 with 1 Axes>"
      ]
     },
     "metadata": {},
     "output_type": "display_data"
    }
   ],
   "source": [
    "plt.scatter(x=y_test,y=y_pred)"
   ]
  },
  {
   "cell_type": "code",
   "execution_count": 29,
   "metadata": {
    "id": "YdkMKahIL4ts"
   },
   "outputs": [],
   "source": [
    "#pt.inverse_transform(predicted) # to get the actual, non transformed value"
   ]
  },
  {
   "cell_type": "markdown",
   "metadata": {
    "id": "ASYWC-38TrXK"
   },
   "source": [
    "# LAB | 27.11.23 Instructions\n",
    "- Fit the models LinearRegression, Lasso and Ridge and compare the model performances.\n",
    "- Define a function that takes a list of models and trains (and tests) them so we can try a lot of them without repeating code.\n",
    "- Use feature selection techniques (P-Value, RFE) to select a subset of features to train the model with.\n",
    "- (optional) Refit the models with the selected features."
   ]
  },
  {
   "cell_type": "code",
   "execution_count": null,
   "metadata": {},
   "outputs": [],
   "source": [
    "from sklearn.linear_model import Lasso,Ridge,LinearRegression\n",
    "models = ['LinearRegression','Lasso','Ridge']\n",
    "\n",
    "def models_to_test(models):\n",
    "    for model in models:\n",
    "        model_test(model)\n",
    "        \n",
    "\n",
    "def data_split():\n",
    "    X_train, X_test, y_train, y_test = train_test_split(X, y, test_size=0.20, random_state=42)\n",
    "\n",
    "    X_train = pd.DataFrame(X_train, columns=X.columns)\n",
    "    X_test  = pd.DataFrame(X_test, columns=X.columns)\n",
    "\n",
    "\n",
    "def model_test(model):\n",
    "    pass\n",
    "\n",
    "\n",
    "\n",
    "def feature_selection():\n",
    "    pass\n",
    "\n",
    "\n",
    "    \n",
    "def model_metrics(y_test,y_pred):\n",
    "    model_mse = mse(y_test, y_pred)\n",
    "    model_r2 = r2(y_test, y_pred)\n",
    "    model_rmse = np.sqrt(model_mse)\n",
    "    return model_mse,model_r2,model_rmse\n",
    "\n",
    "\n",
    "def linearregression(X_train, y_train):\n",
    "    model=LinearRegression()\n",
    "    \n",
    "    model.fit(X_train, y_train)\n",
    "    print(f\"{model.__class__.__name__}: Train -> {model.score(X_train, y_train)}, Test -> {model.score(X_test, y_test)}\")\n",
    "\n",
    "\n",
    "def lasso(X_train, y_train):\n",
    "    model=Lasso(alpha=0)\n",
    "\n",
    "    model.fit(X_train, y_train)\n",
    "    print(f\"{model.__class__.__name__}: Train -> {model.score(X_train, y_train)}, Test -> {model.score(X_test, y_test)}\")\n",
    "\n",
    "\n",
    "def ridge(X_train, y_train):\n",
    "    model=Ridge(alpha=0)\n",
    "    model.fit(X_train, y_train)\n",
    "    print(f\"{model.__class__.__name__}: Train -> {model.score(X_train, y_train)}, Test -> {model.score(X_test, y_test)}\")\n",
    "\n"
   ]
  }
 ],
 "metadata": {
  "colab": {
   "provenance": []
  },
  "kernelspec": {
   "display_name": "Python 3 (ipykernel)",
   "language": "python",
   "name": "python3"
  },
  "language_info": {
   "codemirror_mode": {
    "name": "ipython",
    "version": 3
   },
   "file_extension": ".py",
   "mimetype": "text/x-python",
   "name": "python",
   "nbconvert_exporter": "python",
   "pygments_lexer": "ipython3",
   "version": "3.9.2"
  }
 },
 "nbformat": 4,
 "nbformat_minor": 4
}
