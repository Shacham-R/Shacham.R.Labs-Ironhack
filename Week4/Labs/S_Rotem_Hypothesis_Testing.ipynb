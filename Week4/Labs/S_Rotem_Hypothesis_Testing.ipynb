{
  "nbformat": 4,
  "nbformat_minor": 0,
  "metadata": {
    "colab": {
      "provenance": []
    },
    "kernelspec": {
      "name": "python3",
      "display_name": "Python 3"
    },
    "language_info": {
      "name": "python"
    }
  },
  "cells": [
    {
      "cell_type": "markdown",
      "source": [
        ">It is assumed that the mean systolic blood pressure is μ = 120 mm Hg. In the Honolulu Heart Study, a sample of n = 100 people had an average systolic blood pressure of 130.1 mm Hg with a standard  deviation of 21.21 mm Hg.\n",
        "\n",
        "- Is the group significantly different (with respect to systolic blood pressure!) from the regular population?\n",
        "\n",
        "- Set up the hypothesis test.\n",
        "-- Write down all the steps followed for setting up the test.\n",
        "-- Calculate the test statistic by hand and also code it in Python. It should be 4.76190.\n",
        "-- What decision can you make based on this calculated value?"
      ],
      "metadata": {
        "id": "SAj2403Pishg"
      }
    },
    {
      "cell_type": "code",
      "source": [
        "import numpy as np\n",
        "import pandas as pd\n",
        "import scipy.stats as stats\n",
        "import matplotlib.pyplot as plt\n",
        "import seaborn as sns\n",
        "\n",
        "%matplotlib inline"
      ],
      "metadata": {
        "id": "M78VDgMLl_pX"
      },
      "execution_count": 3,
      "outputs": []
    },
    {
      "cell_type": "code",
      "execution_count": 1,
      "metadata": {
        "id": "ogd6r9S0incg"
      },
      "outputs": [],
      "source": [
        "#sample\n",
        "n = 100\n",
        "sample_mean = 130.1\n",
        "sample_std = 21.21\n",
        "#population\n",
        "population_mean = 120\n",
        "\n",
        "#H0:\n",
        "#H1:"
      ]
    },
    {
      "cell_type": "code",
      "source": [
        "z = ( sample_mean - population_mean ) / ( sample_std / np.sqrt(n) )\n",
        "print(\"Our z score is: {:.2f}\".format(z))"
      ],
      "metadata": {
        "colab": {
          "base_uri": "https://localhost:8080/"
        },
        "id": "RiOtuau6jpdF",
        "outputId": "b4e9a8e0-d337-49fb-f2a6-837d1327e141"
      },
      "execution_count": 2,
      "outputs": [
        {
          "output_type": "stream",
          "name": "stdout",
          "text": [
            "Our z score is: 4.76\n"
          ]
        }
      ]
    },
    {
      "cell_type": "code",
      "execution_count": 4,
      "metadata": {
        "colab": {
          "base_uri": "https://localhost:8080/"
        },
        "id": "PhRW68NyZC-w",
        "outputId": "ed9753c8-00a4-4bde-bcb6-14d7c84f7cd2",
        "scrolled": true
      },
      "outputs": [
        {
          "output_type": "stream",
          "name": "stdout",
          "text": [
            "The critical value corresponding to a 0.95 area of a normal distribution is: 1.64\n"
          ]
        }
      ],
      "source": [
        "zc = stats.norm.ppf(1-0.05) # 0.95 is the confidence level.\n",
        "print(\"The critical value corresponding to a 0.95 area of a normal distribution is: {:.2f}\".format(zc))"
      ]
    },
    {
      "cell_type": "code",
      "source": [
        "if z > zc:\n",
        "  print('reject the Null Hypothesis')\n",
        "else:\n",
        "    print('failed to reject the Null Hypothesis')"
      ],
      "metadata": {
        "colab": {
          "base_uri": "https://localhost:8080/"
        },
        "id": "-qmjrrRQme-I",
        "outputId": "be1495f9-6ee4-4dd8-fd36-3d8f56e0d672"
      },
      "execution_count": 5,
      "outputs": [
        {
          "output_type": "stream",
          "name": "stdout",
          "text": [
            "reject the Null Hypothesis\n"
          ]
        }
      ]
    },
    {
      "cell_type": "markdown",
      "source": [
        ">In a packing plant, a machine packs cartons with jars. It is supposed that a new machine will pack faster on the average than the machine currently used. To test that hypothesis, the times it takes each machine to pack ten cartons are recorded. The results, in seconds, are shown in the tables in the file Data/machine.txt. Assume that there is sufficient evidence to conduct the t test, does the data provide sufficient evidence to show if one machine is better than the other.\n",
        "Hint: use two sample t-test\n",
        "\n",
        "t= (sample_mean(x1) - sample_mean(x2)) / sqrt(square(s1)/n1 + square(s2)/n2 )"
      ],
      "metadata": {
        "id": "_mm-6LCcnWUc"
      }
    },
    {
      "cell_type": "code",
      "source": [
        "#data\n",
        "new_machine=[\n",
        "42.1\t       ,\n",
        "41\t          ,\n",
        "41.3\t        ,\n",
        "41.8\t        ,\n",
        "42.4\t        ,\n",
        "42.8\t        ,\n",
        "43.2\t        ,\n",
        "42.3\t        ,\n",
        "41.8\t        ,\n",
        "42.7\t  ]\n",
        "old_machine = [42.7,43.6,43.8,43.3,42.5,43.5,43.1,41.7,44,44.1]\n",
        "\n"
      ],
      "metadata": {
        "id": "UPHgN86Unw0z"
      },
      "execution_count": null,
      "outputs": []
    },
    {
      "cell_type": "code",
      "execution_count": null,
      "metadata": {
        "id": "A-fN78rbnly3"
      },
      "outputs": [],
      "source": [
        "#sample1\n",
        "n1 = len(new_machine)\n",
        "sample1_mean = new_machine.mean()\n",
        "sample1_std = new_machine.np.std()\n",
        "\n",
        "#sample2\n",
        "n2 = len(old_machine)\n",
        "sample2_mean = old_machine.mean()\n",
        "\n",
        "\n",
        "#H0:\n",
        "#H1:"
      ]
    },
    {
      "cell_type": "code",
      "source": [
        "t= (sample_mean(x1) - sample_mean(x2)) / sqrt(square(s1)/n1 + square(s2)/n2 )\n",
        "print(\"Our z score is: {:.2f}\".format(t))"
      ],
      "metadata": {
        "colab": {
          "base_uri": "https://localhost:8080/"
        },
        "outputId": "b4e9a8e0-d337-49fb-f2a6-837d1327e141",
        "id": "9gJLrFkpnly7"
      },
      "execution_count": null,
      "outputs": [
        {
          "output_type": "stream",
          "name": "stdout",
          "text": [
            "Our z score is: 4.76\n"
          ]
        }
      ]
    },
    {
      "cell_type": "code",
      "execution_count": null,
      "metadata": {
        "colab": {
          "base_uri": "https://localhost:8080/"
        },
        "outputId": "ed9753c8-00a4-4bde-bcb6-14d7c84f7cd2",
        "scrolled": true,
        "id": "TresvwHGnly9"
      },
      "outputs": [
        {
          "output_type": "stream",
          "name": "stdout",
          "text": [
            "The critical value corresponding to a 0.95 area of a normal distribution is: 1.64\n"
          ]
        }
      ],
      "source": [
        "tc = stats.norm.ppf(1-0.05) # 0.95 is the confidence level.\n",
        "print(\"The critical value corresponding to a 0.95 area of a normal distribution is: {:.2f}\".format(zc))"
      ]
    },
    {
      "cell_type": "code",
      "source": [
        "if t > tc:\n",
        "  print('reject the Null Hypothesis')\n",
        "else:\n",
        "    print('failed to reject the Null Hypothesis')"
      ],
      "metadata": {
        "colab": {
          "base_uri": "https://localhost:8080/"
        },
        "outputId": "be1495f9-6ee4-4dd8-fd36-3d8f56e0d672",
        "id": "kz2Qdc6Gnly_"
      },
      "execution_count": null,
      "outputs": [
        {
          "output_type": "stream",
          "name": "stdout",
          "text": [
            "reject the Null Hypothesis\n"
          ]
        }
      ]
    }
  ]
}