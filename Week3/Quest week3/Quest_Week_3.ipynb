{
  "cells": [
    {
      "cell_type": "code",
      "execution_count": 26,
      "metadata": {
        "id": "CR3mP0zHlaDt"
      },
      "outputs": [],
      "source": [
        "import pandas as pd\n",
        "from google.colab import files\n",
        "import seaborn as sns\n",
        "from seaborn import objects as so\n",
        "\n",
        "#creating the dataframes from csv files downloaded from berlin.de/umweltatlas/\n",
        "\n",
        "file11 = '/content/drive/MyDrive/Ironhack/Week 3/Quest/Berlin_enviromental_justice_2011 - BEJ_2011.csv' #get a local file path\n",
        "file13 = '/content/drive/MyDrive/Ironhack/Week 3/Quest/BER_environmental_justice_2013.csv'\n",
        "df11 = pd.read_csv(file11)\n",
        "df13 = pd.read_csv(file13)\n"
      ]
    },
    {
      "cell_type": "markdown",
      "metadata": {
        "id": "910NtswhV1Lh"
      },
      "source": [
        "#--- Prepering the tables for merging ---"
      ]
    },
    {
      "cell_type": "code",
      "execution_count": 27,
      "metadata": {
        "id": "CK4X72UMXivO"
      },
      "outputs": [],
      "source": [
        "#--- the 2013 table ---\n",
        "#removing unnecessery columns\n",
        "df13.drop(\"geometry\",axis=1, inplace=True, errors='ignore') #if columns exist it will be dropped\n",
        "\n",
        "#aligning the column names\n",
        "df13.rename(columns={'planing_area_name': 'area_name', 'Noise':'noise_13', 'Air Pollution (PM2.5 + NO2)':'air_pollution_13','Grean area supply':'green_area_13','Bioclimatic Stress':'bioclimatic_stress_13','Social Status':'social_status_13','population':'population_13'},inplace=True,errors='ignore')\n",
        "\n",
        "#sorting and aligning the column and position\n",
        "df13 = df13.reindex(sorted(df13.columns), axis=1)\n",
        "col = df13.pop('area_name')\n",
        "df13.insert(0, col.name, col)\n",
        "col = df13.pop('population_13')\n",
        "df13.insert(1, col.name, col)\n",
        "\n",
        "#removing rows where population is zero\n",
        "\n",
        "df13.drop(df13.loc[df13['population_13'] == 0].index ,inplace=True)\n"
      ]
    },
    {
      "cell_type": "code",
      "execution_count": 28,
      "metadata": {
        "id": "FoWjMuP9VuKg"
      },
      "outputs": [],
      "source": [
        "#--- the 2011 table ---\n",
        "#aligning the column names\n",
        "df11.rename(columns={'population_2011':'population_11','green_area':'green_area_11','noise':'noise_11','air_polution':'air_pollution_11','social_status':'social_status_11','bioclimatic_stress':'bioclimatic_stress_11'},inplace=True,errors='ignore')\n",
        "\n",
        "#sorting and aligning the column and position\n",
        "df11 = df11.reindex(sorted(df11.columns), axis=1)\n",
        "col = df11.pop('area_name')\n",
        "df11.insert(0, col.name, col)\n",
        "col = df11.pop('population_11')\n",
        "df11.insert(1, col.name, col)\n",
        "\n",
        "#removing rows where population is zero\n",
        "\n",
        "df11.drop(df11.loc[df11['population_11'] == 0].index ,inplace=True)\n",
        "\n"
      ]
    },
    {
      "cell_type": "code",
      "source": [
        "#downloading clean tables as csv\n",
        "'''\n",
        "df11.to_csv(\"df11.csv\")\n",
        "files.download(\"df11.csv\")\n",
        "\n",
        "df13.to_csv(\"df13.csv\")\n",
        "files.download(\"df13.csv\")\n",
        "'''"
      ],
      "metadata": {
        "colab": {
          "base_uri": "https://localhost:8080/",
          "height": 53
        },
        "id": "puao88Uw2eFj",
        "outputId": "ec2147e7-456b-48fd-f8cd-a6bd341227c8"
      },
      "execution_count": 29,
      "outputs": [
        {
          "output_type": "execute_result",
          "data": {
            "text/plain": [
              "'\\ndf11.to_csv(\"df11.csv\")\\nfiles.download(\"df11.csv\")\\n\\ndf13.to_csv(\"df13.csv\")\\nfiles.download(\"df13.csv\")\\n'"
            ],
            "application/vnd.google.colaboratory.intrinsic+json": {
              "type": "string"
            }
          },
          "metadata": {},
          "execution_count": 29
        }
      ]
    },
    {
      "cell_type": "markdown",
      "metadata": {
        "id": "DRl8ravfXykZ"
      },
      "source": [
        "#Functions"
      ]
    },
    {
      "cell_type": "code",
      "execution_count": 30,
      "metadata": {
        "id": "LW0fEqFM0O41"
      },
      "outputs": [],
      "source": [
        "#defining helper functions\n",
        "\n",
        "def percentileMap(value_to_check, percentile_25,percentile_50,percentile_75):\n",
        "  n = value_to_check\n",
        "  if n < percentile_25: #values smaller than this should be mapped to 1\n",
        "    return 1\n",
        "  if percentile_25 <= n < percentile_50: #values smaller than this but bigger than the .25 should be mapped to 2\n",
        "    return 2\n",
        "  if percentile_50 <= n < percentile_75: #values smaller than this but bigger than the .5 should be mapped to 3\n",
        "    return 3\n",
        "  if n > percentile_75: #values larger then this should be mapped to 4\n",
        "    return 4"
      ]
    },
    {
      "cell_type": "code",
      "source": [
        "df11"
      ],
      "metadata": {
        "colab": {
          "base_uri": "https://localhost:8080/",
          "height": 496
        },
        "id": "ZlH87JFhYZ4Z",
        "outputId": "518ab5c2-d0e1-4333-89e3-1ed28f494a23"
      },
      "execution_count": 43,
      "outputs": [
        {
          "output_type": "execute_result",
          "data": {
            "text/plain": [
              "                      area_name population_11  air_pollution  \\\n",
              "0                  Stülerstraße         2,765              3   \n",
              "1             Großer Tiergarten           176              3   \n",
              "2                  Lützowstraße         4,768              3   \n",
              "3                  Körnerstraße         3,809              3   \n",
              "4      Nördlicher Landwehrkanal           901              3   \n",
              "..                          ...           ...            ...   \n",
              "442            Dannenwalder Weg          9008              3   \n",
              "443             Lübarser Straße          3164              2   \n",
              "444           Rollbergesiedlung          4973              2   \n",
              "445                 Borsigwalde          6323              2   \n",
              "446  Ziekowstraße/Freie Scholle          9614              2   \n",
              "\n",
              "     bioclimatic_stress_11  green_area_11  noise_11  social_status_11  \n",
              "0                        3              1         2                 2  \n",
              "1                        2              3         0                 1  \n",
              "2                        3              1         2                 2  \n",
              "3                        3              2         2                 3  \n",
              "4                        3              3         2                 1  \n",
              "..                     ...            ...       ...               ...  \n",
              "442                      3              1         2                 3  \n",
              "443                      2              3         2                 2  \n",
              "444                      2              3         1                 2  \n",
              "445                      3              2         2                 2  \n",
              "446                      2              3         2                 2  \n",
              "\n",
              "[447 rows x 7 columns]"
            ],
            "text/html": [
              "\n",
              "  <div id=\"df-edd1f3b7-aff9-4267-9190-af0557471071\" class=\"colab-df-container\">\n",
              "    <div>\n",
              "<style scoped>\n",
              "    .dataframe tbody tr th:only-of-type {\n",
              "        vertical-align: middle;\n",
              "    }\n",
              "\n",
              "    .dataframe tbody tr th {\n",
              "        vertical-align: top;\n",
              "    }\n",
              "\n",
              "    .dataframe thead th {\n",
              "        text-align: right;\n",
              "    }\n",
              "</style>\n",
              "<table border=\"1\" class=\"dataframe\">\n",
              "  <thead>\n",
              "    <tr style=\"text-align: right;\">\n",
              "      <th></th>\n",
              "      <th>area_name</th>\n",
              "      <th>population_11</th>\n",
              "      <th>air_pollution</th>\n",
              "      <th>bioclimatic_stress_11</th>\n",
              "      <th>green_area_11</th>\n",
              "      <th>noise_11</th>\n",
              "      <th>social_status_11</th>\n",
              "    </tr>\n",
              "  </thead>\n",
              "  <tbody>\n",
              "    <tr>\n",
              "      <th>0</th>\n",
              "      <td>Stülerstraße</td>\n",
              "      <td>2,765</td>\n",
              "      <td>3</td>\n",
              "      <td>3</td>\n",
              "      <td>1</td>\n",
              "      <td>2</td>\n",
              "      <td>2</td>\n",
              "    </tr>\n",
              "    <tr>\n",
              "      <th>1</th>\n",
              "      <td>Großer Tiergarten</td>\n",
              "      <td>176</td>\n",
              "      <td>3</td>\n",
              "      <td>2</td>\n",
              "      <td>3</td>\n",
              "      <td>0</td>\n",
              "      <td>1</td>\n",
              "    </tr>\n",
              "    <tr>\n",
              "      <th>2</th>\n",
              "      <td>Lützowstraße</td>\n",
              "      <td>4,768</td>\n",
              "      <td>3</td>\n",
              "      <td>3</td>\n",
              "      <td>1</td>\n",
              "      <td>2</td>\n",
              "      <td>2</td>\n",
              "    </tr>\n",
              "    <tr>\n",
              "      <th>3</th>\n",
              "      <td>Körnerstraße</td>\n",
              "      <td>3,809</td>\n",
              "      <td>3</td>\n",
              "      <td>3</td>\n",
              "      <td>2</td>\n",
              "      <td>2</td>\n",
              "      <td>3</td>\n",
              "    </tr>\n",
              "    <tr>\n",
              "      <th>4</th>\n",
              "      <td>Nördlicher Landwehrkanal</td>\n",
              "      <td>901</td>\n",
              "      <td>3</td>\n",
              "      <td>3</td>\n",
              "      <td>3</td>\n",
              "      <td>2</td>\n",
              "      <td>1</td>\n",
              "    </tr>\n",
              "    <tr>\n",
              "      <th>...</th>\n",
              "      <td>...</td>\n",
              "      <td>...</td>\n",
              "      <td>...</td>\n",
              "      <td>...</td>\n",
              "      <td>...</td>\n",
              "      <td>...</td>\n",
              "      <td>...</td>\n",
              "    </tr>\n",
              "    <tr>\n",
              "      <th>442</th>\n",
              "      <td>Dannenwalder Weg</td>\n",
              "      <td>9008</td>\n",
              "      <td>3</td>\n",
              "      <td>3</td>\n",
              "      <td>1</td>\n",
              "      <td>2</td>\n",
              "      <td>3</td>\n",
              "    </tr>\n",
              "    <tr>\n",
              "      <th>443</th>\n",
              "      <td>Lübarser Straße</td>\n",
              "      <td>3164</td>\n",
              "      <td>2</td>\n",
              "      <td>2</td>\n",
              "      <td>3</td>\n",
              "      <td>2</td>\n",
              "      <td>2</td>\n",
              "    </tr>\n",
              "    <tr>\n",
              "      <th>444</th>\n",
              "      <td>Rollbergesiedlung</td>\n",
              "      <td>4973</td>\n",
              "      <td>2</td>\n",
              "      <td>2</td>\n",
              "      <td>3</td>\n",
              "      <td>1</td>\n",
              "      <td>2</td>\n",
              "    </tr>\n",
              "    <tr>\n",
              "      <th>445</th>\n",
              "      <td>Borsigwalde</td>\n",
              "      <td>6323</td>\n",
              "      <td>2</td>\n",
              "      <td>3</td>\n",
              "      <td>2</td>\n",
              "      <td>2</td>\n",
              "      <td>2</td>\n",
              "    </tr>\n",
              "    <tr>\n",
              "      <th>446</th>\n",
              "      <td>Ziekowstraße/Freie Scholle</td>\n",
              "      <td>9614</td>\n",
              "      <td>2</td>\n",
              "      <td>2</td>\n",
              "      <td>3</td>\n",
              "      <td>2</td>\n",
              "      <td>2</td>\n",
              "    </tr>\n",
              "  </tbody>\n",
              "</table>\n",
              "<p>447 rows × 7 columns</p>\n",
              "</div>\n",
              "    <div class=\"colab-df-buttons\">\n",
              "\n",
              "  <div class=\"colab-df-container\">\n",
              "    <button class=\"colab-df-convert\" onclick=\"convertToInteractive('df-edd1f3b7-aff9-4267-9190-af0557471071')\"\n",
              "            title=\"Convert this dataframe to an interactive table.\"\n",
              "            style=\"display:none;\">\n",
              "\n",
              "  <svg xmlns=\"http://www.w3.org/2000/svg\" height=\"24px\" viewBox=\"0 -960 960 960\">\n",
              "    <path d=\"M120-120v-720h720v720H120Zm60-500h600v-160H180v160Zm220 220h160v-160H400v160Zm0 220h160v-160H400v160ZM180-400h160v-160H180v160Zm440 0h160v-160H620v160ZM180-180h160v-160H180v160Zm440 0h160v-160H620v160Z\"/>\n",
              "  </svg>\n",
              "    </button>\n",
              "\n",
              "  <style>\n",
              "    .colab-df-container {\n",
              "      display:flex;\n",
              "      gap: 12px;\n",
              "    }\n",
              "\n",
              "    .colab-df-convert {\n",
              "      background-color: #E8F0FE;\n",
              "      border: none;\n",
              "      border-radius: 50%;\n",
              "      cursor: pointer;\n",
              "      display: none;\n",
              "      fill: #1967D2;\n",
              "      height: 32px;\n",
              "      padding: 0 0 0 0;\n",
              "      width: 32px;\n",
              "    }\n",
              "\n",
              "    .colab-df-convert:hover {\n",
              "      background-color: #E2EBFA;\n",
              "      box-shadow: 0px 1px 2px rgba(60, 64, 67, 0.3), 0px 1px 3px 1px rgba(60, 64, 67, 0.15);\n",
              "      fill: #174EA6;\n",
              "    }\n",
              "\n",
              "    .colab-df-buttons div {\n",
              "      margin-bottom: 4px;\n",
              "    }\n",
              "\n",
              "    [theme=dark] .colab-df-convert {\n",
              "      background-color: #3B4455;\n",
              "      fill: #D2E3FC;\n",
              "    }\n",
              "\n",
              "    [theme=dark] .colab-df-convert:hover {\n",
              "      background-color: #434B5C;\n",
              "      box-shadow: 0px 1px 3px 1px rgba(0, 0, 0, 0.15);\n",
              "      filter: drop-shadow(0px 1px 2px rgba(0, 0, 0, 0.3));\n",
              "      fill: #FFFFFF;\n",
              "    }\n",
              "  </style>\n",
              "\n",
              "    <script>\n",
              "      const buttonEl =\n",
              "        document.querySelector('#df-edd1f3b7-aff9-4267-9190-af0557471071 button.colab-df-convert');\n",
              "      buttonEl.style.display =\n",
              "        google.colab.kernel.accessAllowed ? 'block' : 'none';\n",
              "\n",
              "      async function convertToInteractive(key) {\n",
              "        const element = document.querySelector('#df-edd1f3b7-aff9-4267-9190-af0557471071');\n",
              "        const dataTable =\n",
              "          await google.colab.kernel.invokeFunction('convertToInteractive',\n",
              "                                                    [key], {});\n",
              "        if (!dataTable) return;\n",
              "\n",
              "        const docLinkHtml = 'Like what you see? Visit the ' +\n",
              "          '<a target=\"_blank\" href=https://colab.research.google.com/notebooks/data_table.ipynb>data table notebook</a>'\n",
              "          + ' to learn more about interactive tables.';\n",
              "        element.innerHTML = '';\n",
              "        dataTable['output_type'] = 'display_data';\n",
              "        await google.colab.output.renderOutput(dataTable, element);\n",
              "        const docLink = document.createElement('div');\n",
              "        docLink.innerHTML = docLinkHtml;\n",
              "        element.appendChild(docLink);\n",
              "      }\n",
              "    </script>\n",
              "  </div>\n",
              "\n",
              "\n",
              "<div id=\"df-9e1b7b52-9e26-402f-a69b-9a0abb42b9f0\">\n",
              "  <button class=\"colab-df-quickchart\" onclick=\"quickchart('df-9e1b7b52-9e26-402f-a69b-9a0abb42b9f0')\"\n",
              "            title=\"Suggest charts.\"\n",
              "            style=\"display:none;\">\n",
              "\n",
              "<svg xmlns=\"http://www.w3.org/2000/svg\" height=\"24px\"viewBox=\"0 0 24 24\"\n",
              "     width=\"24px\">\n",
              "    <g>\n",
              "        <path d=\"M19 3H5c-1.1 0-2 .9-2 2v14c0 1.1.9 2 2 2h14c1.1 0 2-.9 2-2V5c0-1.1-.9-2-2-2zM9 17H7v-7h2v7zm4 0h-2V7h2v10zm4 0h-2v-4h2v4z\"/>\n",
              "    </g>\n",
              "</svg>\n",
              "  </button>\n",
              "\n",
              "<style>\n",
              "  .colab-df-quickchart {\n",
              "      --bg-color: #E8F0FE;\n",
              "      --fill-color: #1967D2;\n",
              "      --hover-bg-color: #E2EBFA;\n",
              "      --hover-fill-color: #174EA6;\n",
              "      --disabled-fill-color: #AAA;\n",
              "      --disabled-bg-color: #DDD;\n",
              "  }\n",
              "\n",
              "  [theme=dark] .colab-df-quickchart {\n",
              "      --bg-color: #3B4455;\n",
              "      --fill-color: #D2E3FC;\n",
              "      --hover-bg-color: #434B5C;\n",
              "      --hover-fill-color: #FFFFFF;\n",
              "      --disabled-bg-color: #3B4455;\n",
              "      --disabled-fill-color: #666;\n",
              "  }\n",
              "\n",
              "  .colab-df-quickchart {\n",
              "    background-color: var(--bg-color);\n",
              "    border: none;\n",
              "    border-radius: 50%;\n",
              "    cursor: pointer;\n",
              "    display: none;\n",
              "    fill: var(--fill-color);\n",
              "    height: 32px;\n",
              "    padding: 0;\n",
              "    width: 32px;\n",
              "  }\n",
              "\n",
              "  .colab-df-quickchart:hover {\n",
              "    background-color: var(--hover-bg-color);\n",
              "    box-shadow: 0 1px 2px rgba(60, 64, 67, 0.3), 0 1px 3px 1px rgba(60, 64, 67, 0.15);\n",
              "    fill: var(--button-hover-fill-color);\n",
              "  }\n",
              "\n",
              "  .colab-df-quickchart-complete:disabled,\n",
              "  .colab-df-quickchart-complete:disabled:hover {\n",
              "    background-color: var(--disabled-bg-color);\n",
              "    fill: var(--disabled-fill-color);\n",
              "    box-shadow: none;\n",
              "  }\n",
              "\n",
              "  .colab-df-spinner {\n",
              "    border: 2px solid var(--fill-color);\n",
              "    border-color: transparent;\n",
              "    border-bottom-color: var(--fill-color);\n",
              "    animation:\n",
              "      spin 1s steps(1) infinite;\n",
              "  }\n",
              "\n",
              "  @keyframes spin {\n",
              "    0% {\n",
              "      border-color: transparent;\n",
              "      border-bottom-color: var(--fill-color);\n",
              "      border-left-color: var(--fill-color);\n",
              "    }\n",
              "    20% {\n",
              "      border-color: transparent;\n",
              "      border-left-color: var(--fill-color);\n",
              "      border-top-color: var(--fill-color);\n",
              "    }\n",
              "    30% {\n",
              "      border-color: transparent;\n",
              "      border-left-color: var(--fill-color);\n",
              "      border-top-color: var(--fill-color);\n",
              "      border-right-color: var(--fill-color);\n",
              "    }\n",
              "    40% {\n",
              "      border-color: transparent;\n",
              "      border-right-color: var(--fill-color);\n",
              "      border-top-color: var(--fill-color);\n",
              "    }\n",
              "    60% {\n",
              "      border-color: transparent;\n",
              "      border-right-color: var(--fill-color);\n",
              "    }\n",
              "    80% {\n",
              "      border-color: transparent;\n",
              "      border-right-color: var(--fill-color);\n",
              "      border-bottom-color: var(--fill-color);\n",
              "    }\n",
              "    90% {\n",
              "      border-color: transparent;\n",
              "      border-bottom-color: var(--fill-color);\n",
              "    }\n",
              "  }\n",
              "</style>\n",
              "\n",
              "  <script>\n",
              "    async function quickchart(key) {\n",
              "      const quickchartButtonEl =\n",
              "        document.querySelector('#' + key + ' button');\n",
              "      quickchartButtonEl.disabled = true;  // To prevent multiple clicks.\n",
              "      quickchartButtonEl.classList.add('colab-df-spinner');\n",
              "      try {\n",
              "        const charts = await google.colab.kernel.invokeFunction(\n",
              "            'suggestCharts', [key], {});\n",
              "      } catch (error) {\n",
              "        console.error('Error during call to suggestCharts:', error);\n",
              "      }\n",
              "      quickchartButtonEl.classList.remove('colab-df-spinner');\n",
              "      quickchartButtonEl.classList.add('colab-df-quickchart-complete');\n",
              "    }\n",
              "    (() => {\n",
              "      let quickchartButtonEl =\n",
              "        document.querySelector('#df-9e1b7b52-9e26-402f-a69b-9a0abb42b9f0 button');\n",
              "      quickchartButtonEl.style.display =\n",
              "        google.colab.kernel.accessAllowed ? 'block' : 'none';\n",
              "    })();\n",
              "  </script>\n",
              "</div>\n",
              "    </div>\n",
              "  </div>\n"
            ]
          },
          "metadata": {},
          "execution_count": 43
        }
      ]
    },
    {
      "cell_type": "markdown",
      "source": [
        "# Visualisations"
      ],
      "metadata": {
        "id": "ftXFEFATmZCU"
      }
    },
    {
      "cell_type": "code",
      "source": [
        "import matplotlib.pyplot as plt\n",
        "\n",
        "#plot social status and air_pollution\n",
        "p11 = sns.histplot(df11,  x=\"social_status_11\", hue=\"air_pollution\")\n",
        "plt.xlim(1,4)"
      ],
      "metadata": {
        "colab": {
          "base_uri": "https://localhost:8080/",
          "height": 467
        },
        "id": "XT-JOlPCqQBV",
        "outputId": "cd64ae1c-6f44-43b0-d57d-43adfe1ad425"
      },
      "execution_count": 44,
      "outputs": [
        {
          "output_type": "execute_result",
          "data": {
            "text/plain": [
              "(1.0, 4.0)"
            ]
          },
          "metadata": {},
          "execution_count": 44
        },
        {
          "output_type": "display_data",
          "data": {
            "text/plain": [
              "<Figure size 640x480 with 1 Axes>"
            ],
            "image/png": "[encoded data removed]"
          },
          "metadata": {}
        }
      ]
    },
    {
      "cell_type": "code",
      "source": [
        "p13 = sns.histplot(df13,  x=\"social_status_13\", hue=\"air_pollution_13\")\n",
        "plt.xlim(1,4)"
      ],
      "metadata": {
        "colab": {
          "base_uri": "https://localhost:8080/",
          "height": 467
        },
        "id": "yy8fNjWz6qb9",
        "outputId": "59091ae9-f8cf-48f2-eff7-b689f4f8f5c8"
      },
      "execution_count": 41,
      "outputs": [
        {
          "output_type": "execute_result",
          "data": {
            "text/plain": [
              "(1.0, 4.0)"
            ]
          },
          "metadata": {},
          "execution_count": 41
        },
        {
          "output_type": "display_data",
          "data": {
            "text/plain": [
              "<Figure size 640x480 with 1 Axes>"
            ],
            "image/png": "[encoded data removed]"
          },
          "metadata": {}
        }
      ]
    },
    {
      "cell_type": "code",
      "source": [
        "#plot social status and noise\n",
        "p11 = sns.histplot(df11,  x=\"social_status_11\", hue=\"noise_11\")\n",
        "plt.xlim(1,4)"
      ],
      "metadata": {
        "colab": {
          "base_uri": "https://localhost:8080/",
          "height": 467
        },
        "id": "alXIyowAPMG-",
        "outputId": "9b87bb9c-7b16-46f1-f79a-5c5e6d6140d7"
      },
      "execution_count": 37,
      "outputs": [
        {
          "output_type": "execute_result",
          "data": {
            "text/plain": [
              "(1.0, 4.0)"
            ]
          },
          "metadata": {},
          "execution_count": 37
        },
        {
          "output_type": "display_data",
          "data": {
            "text/plain": [
              "<Figure size 640x480 with 1 Axes>"
            ],
            "image/png": "[encoded data removed]"
          },
          "metadata": {}
        }
      ]
    },
    {
      "cell_type": "code",
      "source": [
        "p13 = sns.histplot(df13,  x=\"social_status_13\", hue=\"noise_13\")\n",
        "plt.xlim(1,4)"
      ],
      "metadata": {
        "colab": {
          "base_uri": "https://localhost:8080/",
          "height": 467
        },
        "id": "JWXvykSKXi00",
        "outputId": "ece67763-104f-48b4-e465-d933cd75d090"
      },
      "execution_count": 38,
      "outputs": [
        {
          "output_type": "execute_result",
          "data": {
            "text/plain": [
              "(1.0, 4.0)"
            ]
          },
          "metadata": {},
          "execution_count": 38
        },
        {
          "output_type": "display_data",
          "data": {
            "text/plain": [
              "<Figure size 640x480 with 1 Axes>"
            ],
            "image/png": "[encoded data removed]"
          },
          "metadata": {}
        }
      ]
    }
  ],
  "metadata": {
    "colab": {
      "provenance": []
    },
    "kernelspec": {
      "display_name": "Python 3",
      "name": "python3"
    },
    "language_info": {
      "name": "python"
    }
  },
  "nbformat": 4,
  "nbformat_minor": 0
}