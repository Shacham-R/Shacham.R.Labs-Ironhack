{
  "cells": [
    {
      "cell_type": "markdown",
      "id": "25d7736c-ba17-4aff-b6bb-66eba20fbf4e",
      "metadata": {
        "id": "25d7736c-ba17-4aff-b6bb-66eba20fbf4e"
      },
      "source": [
        "# Lab | Functions"
      ]
    },
    {
      "cell_type": "markdown",
      "id": "0c581062-8967-4d93-b06e-62833222f930",
      "metadata": {
        "tags": [],
        "id": "0c581062-8967-4d93-b06e-62833222f930"
      },
      "source": [
        "## Exercise: Managing Customer Orders with Functions\n",
        "\n",
        "In the previous exercise, you improved the code for managing customer orders by using loops and flow control. Now, let's take it a step further and refactor the code by introducing functions.\n",
        "\n",
        "Follow the steps below to complete the exercise:\n",
        "\n",
        "1. Define a function named `initialize_inventory` that takes `products` as a parameter. Inside the function, implement the code for initializing the inventory dictionary using a loop and user input.\n",
        "\n",
        "2. Define a function named `get_customer_orders` that takes no parameters. Inside the function, implement the code for prompting the user to enter the product names using a loop. The function should return the `customer_orders` set.\n",
        "\n",
        "3. Define a function named `update_inventory` that takes `customer_orders` and `inventory` as parameters. Inside the function, implement the code for updating the inventory dictionary based on the customer orders.\n",
        "\n",
        "4. Define a function named `calculate_order_statistics` that takes `customer_orders` and `products` as parameters. Inside the function, implement the code for calculating the order statistics (total products ordered, and percentage of unique products ordered). The function should return these values.\n",
        "\n",
        "5. Define a function named `print_order_statistics` that takes `order_statistics` as a parameter. Inside the function, implement the code for printing the order statistics.\n",
        "\n",
        "6. Define a function named `print_updated_inventory` that takes `inventory` as a parameter. Inside the function, implement the code for printing the updated inventory.\n",
        "\n",
        "7. Call the functions in the appropriate sequence to execute the program and manage customer orders.\n",
        "\n",
        "Hints for functions:\n",
        "\n",
        "- Consider the input parameters required for each function and their return values.\n",
        "- Utilize function parameters and return values to transfer data between functions.\n",
        "- Test your functions individually to ensure they work correctly.\n",
        "\n",
        "\n"
      ]
    },
    {
      "cell_type": "code",
      "source": [
        "import random\n",
        "\n",
        "#data\n",
        "\n",
        "products = [\"t-shirt\", \"mug\", \"hat\", \"book\", \"keychain\"]\n",
        "print(\"Products list: \", products)\n",
        "\n",
        "#defining the functions:\n",
        "\n",
        "#1.Define a function named initialize_inventory that takes products as a parameter.\n",
        "def initialize_inventory(products):\n",
        "  inventory = {}\n",
        "\n",
        "  for item in products:\n",
        "    #quantity = int(input(f\"Please enter the quantity of {item} \"))\n",
        "    quantity = random.randint(1, 50) # randomizing inventory\n",
        "    inventory.update({item:quantity})\n",
        "\n",
        "  return inventory\n",
        "\n",
        "\n",
        "#2.Define a function named get_customer_orders that takes no parameters.\n",
        "def get_customer_orders():\n",
        "  customer_orders = set()\n",
        "  ordering = True\n",
        "  while ordering: #so long as we don't encounter a break we'll ask for more orders\n",
        "    customer_orders.add(input(\"Please enter a item you would like to order \"))\n",
        "    order_another = input(\"would you like to order another item? (yes/no)\")\n",
        "    if order_another == \"yes\":\n",
        "      customer_orders.add(input(\"Please enter a item you would like to order \"))\n",
        "      order_another = input(\"would you like to order another item? (yes/no)\")\n",
        "    if order_another == \"no\":\n",
        "      print(\"Ok, no more orders\")\n",
        "      ordering = False\n",
        "      break\n",
        "    else:\n",
        "      print(\"It's a simple yes or no question!\")\n",
        "      ordering = False\n",
        "      break\n",
        "\n",
        "  return customer_orders\n",
        "\n",
        "\n",
        "#3.Define a function named update_inventory that takes customer_orders and inventory as parameters.\n",
        "def update_inventory(inventory, customer_orders):\n",
        "  for item in customer_orders:\n",
        "    inventory[item] -= 1\n",
        "  return inventory\n",
        "\n",
        "\n",
        "#4.Define a function named calculate_order_statistics that takes customer_orders and products as parameters.\n",
        "def calculate_order_statistics(customer_orders, products):\n",
        "  total_ordered = len(customer_orders)\n",
        "  percent_ordered = round(100*(total_ordered/len(products)),2)\n",
        "  order_statistics = (total_ordered, percent_ordered)\n",
        "\n",
        "  return order_statistics\n",
        "\n",
        "\n",
        "#5. Define a function named print_order_statistics that takes order_statistics as a parameter.\n",
        "def print_order_statistics(order_statistics):\n",
        "  print(f\"Order Statistics:\\nTotal Products Ordered: {order_statistics[0]}\\nPercentage of Products Ordered: {order_statistics[1]}% \")\n",
        "\n",
        "\n",
        "#6.Define a function named print_updated_inventory that takes inventory as a parameter\n",
        "def print_updated_inventory(inventory):\n",
        "  print(\"Updated inventory\")\n",
        "  for product_, quantity_ in inventory.items():\n",
        "    print(f\"Product:{product_} Quantity:{quantity_}\")\n",
        "\n",
        "\n"
      ],
      "metadata": {
        "id": "Bxc_0UyrBJ33",
        "colab": {
          "base_uri": "https://localhost:8080/"
        },
        "outputId": "2b017e8c-2146-43ac-bb59-ff6fa4fe9137"
      },
      "id": "Bxc_0UyrBJ33",
      "execution_count": 18,
      "outputs": [
        {
          "output_type": "stream",
          "name": "stdout",
          "text": [
            "Products list:  ['t-shirt', 'mug', 'hat', 'book', 'keychain']\n"
          ]
        }
      ]
    },
    {
      "cell_type": "code",
      "source": [
        "#7 - calling the functions in order -\n",
        "\n",
        "inventory = initialize_inventory(products)\n",
        "customer_orders = get_customer_orders()\n",
        "inventory_updated = update_inventory(inventory, customer_orders)\n",
        "order_statistics = calculate_order_statistics(customer_orders, products)\n",
        "print_order_statistics(order_statistics)\n",
        "print_updated_inventory(inventory_updated)"
      ],
      "metadata": {
        "colab": {
          "base_uri": "https://localhost:8080/"
        },
        "id": "lUYPGsH3Tkrk",
        "outputId": "2999956a-217c-4940-bc62-f5c7b2e4fdd2"
      },
      "id": "lUYPGsH3Tkrk",
      "execution_count": 19,
      "outputs": [
        {
          "output_type": "stream",
          "name": "stdout",
          "text": [
            "Please enter a item you would like to order mug\n",
            "would you like to order another item? (yes/no)no\n",
            "Ok, no more orders\n",
            "Order Statistics:\n",
            "Total Products Ordered: 1\n",
            "Percentage of Products Ordered: 20.0% \n",
            "Updated inventory\n",
            "Product:t-shirt Quantity:29\n",
            "Product:mug Quantity:12\n",
            "Product:hat Quantity:15\n",
            "Product:book Quantity:43\n",
            "Product:keychain Quantity:30\n"
          ]
        }
      ]
    }
  ],
  "metadata": {
    "kernelspec": {
      "display_name": "Python 3 (ipykernel)",
      "language": "python",
      "name": "python3"
    },
    "language_info": {
      "codemirror_mode": {
        "name": "ipython",
        "version": 3
      },
      "file_extension": ".py",
      "mimetype": "text/x-python",
      "name": "python",
      "nbconvert_exporter": "python",
      "pygments_lexer": "ipython3",
      "version": "3.9.13"
    },
    "colab": {
      "provenance": []
    }
  },
  "nbformat": 4,
  "nbformat_minor": 5
}