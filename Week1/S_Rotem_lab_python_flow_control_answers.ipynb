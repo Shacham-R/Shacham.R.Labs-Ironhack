{
  "cells": [
    {
      "cell_type": "markdown",
      "id": "d3bfc191-8885-42ee-b0a0-bbab867c6f9f",
      "metadata": {
        "tags": [],
        "id": "d3bfc191-8885-42ee-b0a0-bbab867c6f9f"
      },
      "source": [
        "# Lab | Flow Control"
      ]
    },
    {
      "cell_type": "markdown",
      "id": "3851fcd1-cf98-4653-9c89-e003b7ec9400",
      "metadata": {
        "id": "3851fcd1-cf98-4653-9c89-e003b7ec9400"
      },
      "source": [
        "## Exercise: Managing Customer Orders Optimized\n",
        "\n",
        "In the last lab, you were starting an online store that sells various products. To ensure smooth operations, you developed a program that manages customer orders and inventory.\n",
        "\n",
        "You did so without using flow control. Let's go a step further and improve this code.\n",
        "\n",
        "Follow the steps below to complete the exercise:\n",
        "\n",
        "1. Look at your code from the lab data structures, and improve repeated code with loops.\n",
        "\n",
        "2. Instead of asking the user to input the name of three products that a customer wants to order, do the following:\n",
        "    \n",
        "    a. Prompt the user to enter the name of a product that a customer wants to order.\n",
        "    \n",
        "    b. Add the product name to the \"customer_orders\" set.\n",
        "    \n",
        "    c. Ask the user if they want to add another product (yes/no).\n",
        "    \n",
        "    d. Continue the loop until the user does not want to add another product.\n",
        "\n",
        "3. Instead of updating the inventory by subtracting 1 from the quantity of each product, only do it for  the products that were ordered (those in \"customer_orders\")."
      ]
    },
    {
      "cell_type": "code",
      "source": [
        "import random\n",
        "products = [\"t-shirt\", \"mug\", \"hat\", \"book\", \"keychain\"]\n",
        "\n",
        "inventory = {}\n",
        "\n",
        "total_products = 0\n",
        "for item in products:\n",
        "  #quantity = int(input(f\"Please enter the quantity of {item} \"))\n",
        "  quantity = random.randint(1, 50) # randomizing inventory\n",
        "  inventory.update({item:quantity})\n",
        "  total_products += quantity\n",
        "\n",
        "\n",
        "customer_orders = set()\n",
        "while True: #so long as we don't encounter a break we'll ask for more orders\n",
        "  customer_orders.add(input(\"Please enter a item you would like to order \"))\n",
        "  order_another = input(\"would you like to order another item? (yes/no)\")\n",
        "  if order_another == \"yes\":\n",
        "    customer_orders.add(input(\"Please enter a item you would like to order \"))\n",
        "    order_another = input(\"would you like to order another item? (yes/no)\")\n",
        "  if order_another == \"no\":\n",
        "    print(\"Ok, no more orders\")\n",
        "    break\n",
        "  else:\n",
        "    print(\"It's a simple yes or no question!\")\n",
        "    break\n",
        "print(customer_orders)\n",
        "\n",
        "\n",
        "total_ordered = len(customer_orders)\n",
        "percent_ordered = round(100*(total_ordered/total_products),2)\n",
        "\n",
        "\n",
        "order_status = (total_ordered, percent_ordered)\n",
        "print(f\"Order Statistics:\\nTotal Products Ordered: {order_status[0]}\\nPercentage of Products Ordered: {order_status[1]}% \")\n",
        "\n",
        "\n",
        "for item in customer_orders:\n",
        "  inventory[item] = inventory[item] -1\n",
        "\n",
        "for product_, quantity_ in inventory.items():\n",
        "  print(f\"Product:{product_} Quantity:{quantity_}\")"
      ],
      "metadata": {
        "colab": {
          "base_uri": "https://localhost:8080/"
        },
        "id": "HS_s6S416SKF",
        "outputId": "74b65afc-d650-4fe8-fe85-87563071770d"
      },
      "id": "HS_s6S416SKF",
      "execution_count": 2,
      "outputs": [
        {
          "output_type": "stream",
          "name": "stdout",
          "text": [
            "Please enter a item you would like to order mug\n",
            "would you like to order another item? (yes/no)no\n",
            "Ok, no more orders\n",
            "{'mug'}\n",
            "Order Statistics:\n",
            "Total Products Ordered: 1\n",
            "Percentage of Products Ordered: 0.61% \n",
            "Product:t-shirt Quantity:48\n",
            "Product:mug Quantity:21\n",
            "Product:hat Quantity:46\n",
            "Product:book Quantity:37\n",
            "Product:keychain Quantity:11\n"
          ]
        }
      ]
    },
    {
      "cell_type": "code",
      "source": [],
      "metadata": {
        "id": "M430yNyS8yzq"
      },
      "id": "M430yNyS8yzq",
      "execution_count": null,
      "outputs": []
    }
  ],
  "metadata": {
    "kernelspec": {
      "display_name": "Python 3 (ipykernel)",
      "language": "python",
      "name": "python3"
    },
    "language_info": {
      "codemirror_mode": {
        "name": "ipython",
        "version": 3
      },
      "file_extension": ".py",
      "mimetype": "text/x-python",
      "name": "python",
      "nbconvert_exporter": "python",
      "pygments_lexer": "ipython3",
      "version": "3.9.13"
    },
    "colab": {
      "provenance": []
    }
  },
  "nbformat": 4,
  "nbformat_minor": 5
}