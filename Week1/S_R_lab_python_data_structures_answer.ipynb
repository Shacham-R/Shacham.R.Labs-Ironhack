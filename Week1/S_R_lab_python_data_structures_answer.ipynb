{
  "cells": [
    {
      "cell_type": "markdown",
      "metadata": {
        "tags": [],
        "id": "GYc4R6Y5swik"
      },
      "source": [
        "# Lab | Data Structures"
      ]
    },
    {
      "cell_type": "markdown",
      "metadata": {
        "id": "WfGtFHhjswiu"
      },
      "source": [
        "## Exercise: Managing Customer Orders\n",
        "\n",
        "As part of a business venture, you are starting an online store that sells various products. To ensure smooth operations, you need to develop a program that manages customer orders and inventory.\n",
        "\n",
        "Follow the steps below to complete the exercise:\n",
        "\n",
        "1. Define a list called `products` that contains the following items: \"t-shirt\", \"mug\", \"hat\", \"book\", \"keychain\".\n",
        "\n",
        "2. Create an empty dictionary called `inventory`.\n",
        "\n",
        "3. Ask the user to input the quantity of each product available in the inventory. Use the product names from the `products` list as keys in the `inventory` dictionary and assign the respective quantities as values.\n",
        "\n",
        "4. Create an empty set called `customer_orders`.\n",
        "\n",
        "5. Ask the user to input the name of three products that a customer wants to order (from those in the products list, meaning three products out of \"t-shirt\", \"mug\", \"hat\", \"book\" or \"keychain\". Add each product name to the `customer_orders` set.\n",
        "\n",
        "6. Print the products in the `customer_orders` set.\n",
        "\n",
        "7. Calculate the following order statistics:\n",
        "   - Total Products Ordered: The total number of products in the `customer_orders` set.\n",
        "   - Percentage of Products Ordered: The percentage of products ordered compared to the total available products.\n",
        "   \n",
        "   Store these statistics in a tuple called `order_status`.\n",
        "\n",
        "8. Print the order statistics using the following format:\n",
        "   ```\n",
        "   Order Statistics:\n",
        "   Total Products Ordered: <total_products_ordered>\n",
        "   Percentage of Products Ordered: <percentage_ordered>%\n",
        "   ```\n",
        "\n",
        "9. Update the inventory by subtracting 1 from the quantity of each product. Modify the `inventory` dictionary accordingly.\n",
        "\n",
        "10. Print the updated inventory, displaying the quantity of each product on separate lines.\n",
        "\n",
        "Solve the exercise by implementing the steps using the Python concepts of lists, dictionaries, sets, and basic input/output operations."
      ]
    },
    {
      "cell_type": "code",
      "source": [
        "#1\n",
        "products = [\"t-shirt\", \"mug\", \"hat\", \"book\", \"keychain\"]\n",
        "#2\n",
        "inventory = {}\n",
        "\n",
        "#3\n",
        "total_products = 0\n",
        "for item in products: #for x in range(len(list))\n",
        "  quantity = int(input(f\"Please enter the quantity of {item} \"))\n",
        "  inventory.update({item:quantity})\n",
        "  total_products += quantity\n",
        "\n",
        "#4,5,6\n",
        "customer_orders = set()\n",
        "for order in range(3):\n",
        "  customer_orders.add(input(\"Please enter a item you would like to order \"))\n",
        "print(customer_orders)\n",
        "\n",
        "#7\n",
        "total_ordered = len(customer_orders)\n",
        "percent_ordered = round(100*(total_ordered/total_products),2)\n",
        "\n",
        "#8\n",
        "\n",
        "order_status = (total_ordered, percent_ordered)\n",
        "print(f\"Order Statistics:\\nTotal Products Ordered: {order_status[0]}\\nPercentage of Products Ordered: {order_status[1]}% \")\n",
        "\n",
        "#9\n",
        "for item in customer_orders:\n",
        "  inventory[item] = inventory[item] -1\n",
        "#10\n",
        "for product_, quantity_ in inventory.items():\n",
        "  print(f\"Product:{product_} Quantity:{quantity_}\")"
      ],
      "metadata": {
        "colab": {
          "base_uri": "https://localhost:8080/"
        },
        "id": "CTJasICms7DW",
        "outputId": "976c3b83-4003-41d2-be3b-1397b80bcdec"
      },
      "execution_count": 36,
      "outputs": [
        {
          "output_type": "stream",
          "name": "stdout",
          "text": [
            "Please enter the quantity of t-shirt 9\n",
            "Please enter the quantity of mug 8\n",
            "Please enter the quantity of hat 6\n",
            "Please enter the quantity of book 6\n",
            "Please enter the quantity of keychain 8\n",
            "Please enter a item you would like to order hat\n",
            "Please enter a item you would like to order mug\n",
            "Please enter a item you would like to order book\n",
            "{'book', 'hat', 'mug'}\n",
            "Order Statistics:\n",
            "Total Products Ordered: 3\n",
            "Percentage of Products Ordered: 8.11% \n",
            "Product:t-shirt Quantity:9\n",
            "Product:mug Quantity:7\n",
            "Product:hat Quantity:5\n",
            "Product:book Quantity:5\n",
            "Product:keychain Quantity:8\n"
          ]
        }
      ]
    },
    {
      "cell_type": "code",
      "source": [
        "#1\n",
        "products = [\"t-shirt\", \"mug\", \"hat\", \"book\", \"keychain\"]\n",
        "#2\n",
        "inventory = {}\n",
        "\n",
        "#3\n",
        "for item in products: #for x in range(len(list))\n",
        "  quantity = int(input(f\"Please enter the quantity of {item} \"))\n",
        "  inventory.update({item:quantity})\n"
      ],
      "metadata": {
        "id": "wFM8m7po_Lgo"
      },
      "execution_count": null,
      "outputs": []
    }
  ],
  "metadata": {
    "kernelspec": {
      "display_name": "Python 3 (ipykernel)",
      "language": "python",
      "name": "python3"
    },
    "language_info": {
      "codemirror_mode": {
        "name": "ipython",
        "version": 3
      },
      "file_extension": ".py",
      "mimetype": "text/x-python",
      "name": "python",
      "nbconvert_exporter": "python",
      "pygments_lexer": "ipython3",
      "version": "3.9.13"
    },
    "colab": {
      "provenance": []
    }
  },
  "nbformat": 4,
  "nbformat_minor": 0
}