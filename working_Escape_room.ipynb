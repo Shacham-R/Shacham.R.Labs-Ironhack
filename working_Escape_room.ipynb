{
  "nbformat": 4,
  "nbformat_minor": 0,
  "metadata": {
    "colab": {
      "provenance": [],
      "toc_visible": true
    },
    "kernelspec": {
      "name": "python3",
      "display_name": "Python 3"
    },
    "language_info": {
      "name": "python"
    }
  },
  "cells": [
    {
      "cell_type": "markdown",
      "source": [
        "#Game room data"
      ],
      "metadata": {
        "id": "C9u6ZRAg1p-T"
      }
    },
    {
      "cell_type": "code",
      "source": [
        "#TODO change to game room data\n",
        "# define rooms and items\n",
        "\n",
        "couch = {\n",
        "    \"name\": \"couch\",\n",
        "    \"type\": \"furniture\",\n",
        "}\n",
        "\n",
        "door_a = {\n",
        "    \"name\": \"door a\",\n",
        "    \"type\": \"door\",\n",
        "}\n",
        "\n",
        "key_a = {\n",
        "    \"name\": \"key for door a\",\n",
        "    \"type\": \"key\",\n",
        "    \"target\": door_a,\n",
        "}\n",
        "\n",
        "piano = {\n",
        "    \"name\": \"piano\",\n",
        "    \"type\": \"furniture\",\n",
        "}\n",
        "\n",
        "game_room = {\n",
        "    \"name\": \"game room\",\n",
        "    \"type\": \"room\",\n",
        "}\n",
        "\n",
        "bedroom_1 = {\n",
        "  \"name\": \"bedroom 1\"\n",
        "}\n",
        "\n",
        "all_rooms = [game_room, bedroom_1]\n",
        "\n",
        "all_doors = [door_a]\n",
        "\n",
        "# define which items/rooms are related\n",
        "\n"
      ],
      "metadata": {
        "id": "GgKlWEB_5nK1"
      },
      "execution_count": null,
      "outputs": []
    },
    {
      "cell_type": "markdown",
      "source": [
        "# Bedroom 1 data"
      ],
      "metadata": {
        "id": "9_OlWijIPb34"
      }
    },
    {
      "cell_type": "code",
      "source": [
        "\n",
        "\n",
        "queen_bed = {\n",
        "    \"name\": \"queen bed\",\n",
        "    \"type\": \"furniture\",\n",
        "}\n",
        "\n",
        "door_a = {\n",
        "    \"name\": \"door a\",\n",
        "    \"type\": \"door\",\n",
        "}\n",
        "\n",
        "door_b = {\n",
        "    \"name\": \"door b\",\n",
        "    \"type\": \"door\",\n",
        "}\n",
        "\n",
        "door_c = {\n",
        "    \"name\": \"door c\",\n",
        "    \"type\": \"door\",\n",
        "}\n",
        "\n",
        "key_b = {\n",
        "    \"name\": \"key for door b\",\n",
        "    \"type\": \"key\",\n",
        "    \"target\": door_b,\n",
        "}\n",
        "\n",
        "\n",
        "\n",
        "bedroom_1 = {\n",
        "    \"name\": \"bedroom 1\",\n",
        "    \"type\": \"room\",\n",
        "}\n",
        "\n",
        "outside = {\n",
        "  \"name\": \"outside\"\n",
        "}\n",
        "\n",
        "available = [bedroom_1, outside]\n",
        "\n",
        "all_doors = [door_a, door_b, door_c]\n",
        "\n",
        "# define which items/rooms are related\n",
        "\n",
        "\n"
      ],
      "metadata": {
        "id": "0kzydZX4N6q4"
      },
      "execution_count": null,
      "outputs": []
    },
    {
      "cell_type": "markdown",
      "source": [
        "#Bedroom 2 data"
      ],
      "metadata": {
        "id": "nX1z8EXPPrh1"
      }
    },
    {
      "cell_type": "code",
      "source": [
        "#TODO change to bedroom 2 data\n",
        "# define rooms and items\n",
        "\n",
        "double_bed = {\n",
        "    \"name\": \"double bed\",\n",
        "    \"type\": \"furniture\",\n",
        "}\n",
        "\n",
        "door_b = {\n",
        "    \"name\": \"door b\",\n",
        "    \"type\": \"door\",\n",
        "}\n",
        "door_d = {\n",
        "    \"name\": \"door d\",\n",
        "    \"type\": \"door\",\n",
        "}\n",
        "\n",
        "key_c = {\n",
        "    \"name\": \"key for door c\",\n",
        "    \"type\": \"key\",\n",
        "    \"target\": door_c,\n",
        "}\n",
        "key_d = {\n",
        "    \"name\": \"key for door d\",\n",
        "    \"type\": \"key\",\n",
        "    \"target\": door_d,\n",
        "}\n",
        "dresser = {\n",
        "    \"name\": \"dresser\",\n",
        "    \"type\": \"furniture\",\n",
        "}\n",
        "\n",
        "bedroom_2 = {\n",
        "    \"name\": \"bedroom 2\",\n",
        "    \"type\": \"room\",\n",
        "}\n",
        "\n",
        "outside = {\n",
        "  \"name\": \"outside\"\n",
        "}\n",
        "\n",
        "all_rooms = [game_room, outside]\n",
        "\n",
        "all_doors = [door_a]\n",
        "\n",
        "# define which items/rooms are related\n",
        "\n",
        "\n",
        "\n"
      ],
      "metadata": {
        "id": "A_ng2MiaPpJ8"
      },
      "execution_count": null,
      "outputs": []
    },
    {
      "cell_type": "markdown",
      "source": [
        "# Living Room data"
      ],
      "metadata": {
        "id": "rNL5CmiNPxFZ"
      }
    },
    {
      "cell_type": "code",
      "source": [
        "#TODO change to living room data\n",
        "# define rooms and items\n",
        "\n",
        "dining_table = {\n",
        "    \"name\": \"dining table\",\n",
        "    \"type\": \"furniture\",\n",
        "}\n",
        "\n",
        "door_c = {\n",
        "    \"name\": \"door c\",\n",
        "    \"type\": \"door\",\n",
        "}\n",
        "door_d = {\n",
        "    \"name\": \"door d\",\n",
        "    \"type\": \"door\",\n",
        "}\n",
        "\n",
        "living_room = {\n",
        "    \"name\": \"living room\",\n",
        "    \"type\": \"room\",\n",
        "}\n",
        "\n",
        "outside = {\n",
        "  \"name\": \"outside\"\n",
        "}\n",
        "\n",
        "all_rooms = [game_room, outside]\n",
        "\n",
        "all_doors = [door_a]\n",
        "\n",
        "# define which items/rooms are related\n",
        "\n",
        "\n",
        "INIT_GAME_STATE = {\n",
        "    \"current_room\": game_room,\n",
        "    \"keys_collected\": [],\n",
        "    \"target_room\": outside\n",
        "}"
      ],
      "metadata": {
        "id": "cERFXGGHPyqd"
      },
      "execution_count": null,
      "outputs": []
    },
    {
      "cell_type": "code",
      "source": [
        "object_relations = {\n",
        "    \"game room\": [couch, piano, door_a],\n",
        "    \"piano\": [key_a],\n",
        "    \"door a\": [game_room, bedroom_1],\n",
        "    \"bedroom 1\": [queen_bed, door_a, door_b, door_c],\n",
        "    \"queen bed\": [key_b],\n",
        "    \"door c\": [bedroom_1, living_room],\n",
        "    \"bedroom 2\": [double_bed, dresser, door_b],\n",
        "    \"double bed\": [key_c],\n",
        "    \"door b\": [bedroom_1, bedroom_2],\n",
        "    \"living room\": [dining_table, door_c, door_d],\n",
        "    \"outside\": [door_d],\n",
        "    \"door d\": [living_room, outside],\n",
        "    \"dresser\": [key_d]\n",
        "}"
      ],
      "metadata": {
        "id": "oLpTwAILv-ks"
      },
      "execution_count": null,
      "outputs": []
    },
    {
      "cell_type": "markdown",
      "source": [
        "#Functions Definitions\n"
      ],
      "metadata": {
        "id": "1iD0LOeP56Lq"
      }
    },
    {
      "cell_type": "markdown",
      "source": [
        "Functions for Game actions"
      ],
      "metadata": {
        "id": "FcyzNo_wRtUG"
      }
    },
    {
      "cell_type": "code",
      "source": [
        "def linebreak():\n",
        "    \"\"\"\n",
        "    Print a line break\n",
        "    \"\"\"\n",
        "    print(\"\\n\\n\")\n",
        "\n",
        "def get_next_room_of_door(door, current_room):\n",
        "    \"\"\"\n",
        "    From object_relations, find the two rooms connected to the given door.\n",
        "    Return the room that is not the current_room.\n",
        "    \"\"\"\n",
        "    connected_rooms = object_relations[door[\"name\"]]\n",
        "    for room in connected_rooms:\n",
        "\n",
        "        if(not current_room == room):\n",
        "            return room\n",
        "\n",
        "def explore_room(room):\n",
        "    \"\"\"\n",
        "    Explore a room. List all items belonging to this room.\n",
        "    \"\"\"\n",
        "    items = [i[\"name\"] for i in object_relations[room[\"name\"]]]\n",
        "    print(\"You explore the room. This is \" + room[\"name\"] + \". You find \" + \", \".join(items))\n",
        "\n",
        "def navigate_room(current_room, intended_action):\n",
        "    \"\"\"\n",
        "    Handle room navigation. Check if the intended action is valid for the current room.\n",
        "    Return the next room or None if the action is invalid.\n",
        "    \"\"\"\n",
        "    next_room = None\n",
        "    if intended_action == \"explore\":\n",
        "        explore_room(current_room)\n",
        "    elif intended_action == \"examine\":\n",
        "        item_name = input(\"What would you like to examine?\").strip()\n",
        "        examine_result = examine_item(item_name)\n",
        "        if examine_result:\n",
        "            if examine_result[\"type\"] == \"door\" and examine_result[\"unlocked\"]:\n",
        "                next_room = get_next_room_of_door(examine_result, current_room)\n",
        "                print(\"You unlock the door and proceed to the next room.\")\n",
        "            elif examine_result[\"type\"] == \"door\" and not examine_result[\"unlocked\"]:\n",
        "                print(\"The door is locked, and you need a key to unlock it.\")\n",
        "            elif examine_result[\"type\"] == \"item\":\n",
        "                game_state[\"keys_collected\"].append(examine_result)\n",
        "                print(f\"You find {examine_result['name']}.\")\n",
        "    else:\n",
        "        print(\"Not sure what you mean. Type 'explore' or 'examine'.\")\n",
        "    return next_room\n",
        "\n",
        "def examine_item(item_name):\n",
        "    \"\"\"\n",
        "    Examine an item which can be a door or furniture.\n",
        "    First make sure the intended item belongs to the current room.\n",
        "    Then check if the item is a door. Tell player if key hasn't been\n",
        "    collected yet. Otherwise ask player if they want to go to the next\n",
        "    room. If the item is not a door, then check if it contains keys.\n",
        "    Collect the key if found and update the game state. At the end,\n",
        "    play either the current or the next room depending on the game state\n",
        "    to keep playing.\n",
        "    \"\"\"\n",
        "    current_room = game_state[\"current_room\"]\n",
        "    next_room = \"\"\n",
        "    output = None\n",
        "\n",
        "    for item in object_relations[current_room[\"name\"]]:\n",
        "        if(item[\"name\"] == item_name):\n",
        "            output = \"You examine \" + item_name + \". \"\n",
        "            if(item[\"type\"] == \"door\"):\n",
        "                have_key = False\n",
        "                for key in game_state[\"keys_collected\"]:\n",
        "                    if(key[\"target\"] == item):\n",
        "                        have_key = True\n",
        "                if(have_key):\n",
        "                    output += \"You unlock it with a key you have.\"\n",
        "                    next_room = get_next_room_of_door(item, current_room)\n",
        "                else:\n",
        "                    output += \"It is locked but you don't have the key.\"\n",
        "            else:\n",
        "                if(item[\"name\"] in object_relations and len(object_relations[item[\"name\"]])>0):\n",
        "                    item_found = object_relations[item[\"name\"]].pop()\n",
        "                    game_state[\"keys_collected\"].append(item_found)\n",
        "                    output += \"You find \" + item_found[\"name\"] + \".\"\n",
        "                else:\n",
        "                    output += \"There isn't anything interesting about it.\"\n",
        "            print(output)\n",
        "            break\n",
        "\n",
        "    if(output is None):\n",
        "        print(\"The item you requested is not found in the current room.\")\n",
        "\n",
        "    if(next_room and input(\"Do you want to go to the next room? Enter 'yes' or 'no'\").strip() == 'yes'):\n",
        "        play_room(next_room)\n",
        "    else:\n",
        "        play_room(current_room)\n",
        "\n",
        "def is_door_unlocked(door):\n",
        "    \"\"\"\n",
        "    Check if a door is unlocked (the player has the key for it).\n",
        "    \"\"\"\n",
        "    for key in game_state[\"keys_collected\"]:\n",
        "        if key[\"target\"] == door:\n",
        "            return True\n",
        "    return False\n",
        "\n",
        "def play_room(room):\n",
        "    game_state[\"current_room\"] = room\n",
        "    if room == game_state[\"target_room\"]:\n",
        "        print(\"Congrats! You escaped the room!\")\n",
        "\n",
        "    else:\n",
        "        print(\"You are now in \" + room[\"name\"])\n",
        "        intended_action = input(\"What would you like to do? Type 'explore' or 'examine'?\").strip()\n",
        "        next_room = navigate_room(room, intended_action)\n",
        "        if next_room:\n",
        "            play_room(next_room)\n",
        "        else:\n",
        "            play_room(room)\n",
        "        linebreak()\n",
        "\n",
        "\n",
        "\n",
        "def start_game():\n",
        "    print(\"You wake up on a couch and find yourself in a strange house with no windows which you have never been to before. You don't remember why you are here and what had happened before. You feel some unknown danger is approaching and you must get out of the house, NOW!\")\n",
        "    play_room(game_state[\"current_room\"])\n",
        "\n",
        "\n",
        "\n",
        "game_state = INIT_GAME_STATE.copy()\n",
        "\n",
        "#MAIN LOOP( TO SIMULATE GAME)\n",
        "def main():\n",
        "  start_game()\n",
        "  while game_state[\"current_room\"]!=game_state[\"target_room\"]:\n",
        "\n",
        "    if is_door_unlocked(game_state[\"current_room\"]) is True:\n",
        "      play_room(game_state[\"next_room\"])\n",
        "    else:\n",
        "      play_room(game_state[\"current_room\"])\n",
        "\n",
        "\n",
        "\n",
        "\n",
        "\n"
      ],
      "metadata": {
        "id": "4KVCRWejVaXD"
      },
      "execution_count": null,
      "outputs": []
    },
    {
      "cell_type": "markdown",
      "source": [
        "# Main Game Loop"
      ],
      "metadata": {
        "id": "GEdXKDTfaVIH"
      }
    },
    {
      "cell_type": "code",
      "source": [
        "main()"
      ],
      "metadata": {
        "colab": {
          "base_uri": "https://localhost:8080/"
        },
        "id": "-veiuPLRYGVJ",
        "outputId": "6f89f8a0-34da-43ee-bba9-d8e55d272667"
      },
      "execution_count": null,
      "outputs": [
        {
          "metadata": {
            "tags": null
          },
          "name": "stdout",
          "output_type": "stream",
          "text": [
            "You wake up on a couch and find yourself in a strange house with no windows which you have never been to before. You don't remember why you are here and what had happened before. You feel some unknown danger is approaching and you must get out of the house, NOW!\n",
            "You are now in game room\n"
          ]
        }
      ]
    }
  ]
}